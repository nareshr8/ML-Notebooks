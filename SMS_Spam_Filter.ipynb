{
 "cells": [
  {
   "cell_type": "code",
   "execution_count": 25,
   "metadata": {
    "cellView": "both",
    "colab": {
     "autoexec": {
      "startup": false,
      "wait_interval": 0
     },
     "base_uri": "https://localhost:8080/",
     "height": 102,
     "output_extras": [
      {
       "item_id": 1
      }
     ]
    },
    "colab_type": "code",
    "executionInfo": {
     "elapsed": 2728,
     "status": "ok",
     "timestamp": 1520957371086,
     "user": {
      "displayName": "நரேஷ் ரங்கன்",
      "photoUrl": "//lh5.googleusercontent.com/-TaTXj_hZ91s/AAAAAAAAAAI/AAAAAAAADoo/90Zi0sD4B6o/s50-c-k-no/photo.jpg",
      "userId": "105647784390519088239"
     },
     "user_tz": 300
    },
    "id": "bV619ChQ6PTm",
    "outputId": "206d89a6-5c0d-43ed-e386-88f84d1e251f"
   },
   "outputs": [
    {
     "name": "stdout",
     "output_type": "stream",
     "text": [
      "Requirement already satisfied: textblob in /home/controller/anaconda3/lib/python3.6/site-packages\r\n",
      "Requirement already satisfied: nltk>=3.1 in /home/controller/anaconda3/lib/python3.6/site-packages (from textblob)\r\n",
      "Requirement already satisfied: six in /home/controller/anaconda3/lib/python3.6/site-packages (from nltk>=3.1->textblob)\r\n"
     ]
    }
   ],
   "source": [
    "# Install Libraries if unavailable\n",
    "# !pip install keras\n",
    "# !pip install tensorflow\n",
    "# !pip install numpy\n",
    "# !pip install pandas\n",
    "# !pip install ekphrasis\n",
    "# !pip install ftfy\n",
    "# !pip install ujson\n",
    "# !pip install textblob\n",
    "# !pip install --upgrade pip"
   ]
  },
  {
   "cell_type": "markdown",
   "metadata": {
    "colab_type": "text",
    "id": "_q6vcEdQH8og"
   },
   "source": [
    "# Import Libraries"
   ]
  },
  {
   "cell_type": "code",
   "execution_count": 41,
   "metadata": {
    "colab": {
     "autoexec": {
      "startup": false,
      "wait_interval": 0
     }
    },
    "colab_type": "code",
    "collapsed": true,
    "id": "4CP9tQw56RvI"
   },
   "outputs": [],
   "source": [
    "# from keras.models import Sequential\n",
    "# from keras.layers import Dense\n",
    "import numpy as np\n"
   ]
  },
  {
   "cell_type": "markdown",
   "metadata": {
    "colab_type": "text",
    "id": "MJeuClDyIEg0"
   },
   "source": [
    "# Import the dataset and unzip it"
   ]
  },
  {
   "cell_type": "code",
   "execution_count": 2,
   "metadata": {
    "colab": {
     "autoexec": {
      "startup": false,
      "wait_interval": 0
     },
     "base_uri": "https://localhost:8080/",
     "height": 255,
     "output_extras": [
      {
       "item_id": 2
      }
     ]
    },
    "colab_type": "code",
    "executionInfo": {
     "elapsed": 1703,
     "status": "ok",
     "timestamp": 1520954023359,
     "user": {
      "displayName": "நரேஷ் ரங்கன்",
      "photoUrl": "//lh5.googleusercontent.com/-TaTXj_hZ91s/AAAAAAAAAAI/AAAAAAAADoo/90Zi0sD4B6o/s50-c-k-no/photo.jpg",
      "userId": "105647784390519088239"
     },
     "user_tz": 300
    },
    "id": "lQCOMUYj6sE-",
    "outputId": "dd1331ea-1f57-4ae7-876d-1673caee63f2"
   },
   "outputs": [
    {
     "name": "stdout",
     "output_type": "stream",
     "text": [
      "mkdir: cannot create directory ‘data’: File exists\r\n"
     ]
    }
   ],
   "source": [
    "# !mkdir data &&wget http://archive.ics.uci.edu/ml/machine-learning-databases/00228/smsspamcollection.zip && unzip smsspamcollection.zip -d data/"
   ]
  },
  {
   "cell_type": "code",
   "execution_count": 42,
   "metadata": {
    "colab": {
     "autoexec": {
      "startup": false,
      "wait_interval": 0
     },
     "base_uri": "https://localhost:8080/",
     "height": 51,
     "output_extras": [
      {
       "item_id": 1
      }
     ]
    },
    "colab_type": "code",
    "executionInfo": {
     "elapsed": 499,
     "status": "ok",
     "timestamp": 1520954219284,
     "user": {
      "displayName": "நரேஷ் ரங்கன்",
      "photoUrl": "//lh5.googleusercontent.com/-TaTXj_hZ91s/AAAAAAAAAAI/AAAAAAAADoo/90Zi0sD4B6o/s50-c-k-no/photo.jpg",
      "userId": "105647784390519088239"
     },
     "user_tz": 300
    },
    "id": "KA2S52XN7B7c",
    "outputId": "d258dff6-1c75-4206-d81c-d932b9ab5aad"
   },
   "outputs": [
    {
     "name": "stdout",
     "output_type": "stream",
     "text": [
      "['readme', 'SMSSpamCollection']\n",
      "['dog-breed']\n"
     ]
    }
   ],
   "source": [
    "from os import walk\n",
    "\n",
    "f = []\n",
    "d=[]\n",
    "for (dirpath, dirnames, filenames) in walk(\"./data\"):\n",
    "    f.extend(filenames)\n",
    "    d.extend(dirnames)\n",
    "    break\n",
    "print(f)\n",
    "print(d)"
   ]
  },
  {
   "cell_type": "markdown",
   "metadata": {
    "colab_type": "text",
    "id": "VUzc7TVhILBL"
   },
   "source": [
    "# Load the Dataset"
   ]
  },
  {
   "cell_type": "code",
   "execution_count": 43,
   "metadata": {
    "colab": {
     "autoexec": {
      "startup": false,
      "wait_interval": 0
     }
    },
    "colab_type": "code",
    "collapsed": true,
    "id": "gFg3MBFK7U2S"
   },
   "outputs": [],
   "source": [
    "import csv\n",
    "raw_data = open(\"./data/SMSSpamCollection\", 'rt')\n",
    "dataset =list(csv.reader(raw_data,delimiter=\"\\t\"))"
   ]
  },
  {
   "cell_type": "code",
   "execution_count": 44,
   "metadata": {
    "colab": {
     "autoexec": {
      "startup": false,
      "wait_interval": 0
     },
     "base_uri": "https://localhost:8080/",
     "height": 207,
     "output_extras": [
      {
       "item_id": 1
      }
     ]
    },
    "colab_type": "code",
    "collapsed": true,
    "executionInfo": {
     "elapsed": 527,
     "status": "ok",
     "timestamp": 1520955921015,
     "user": {
      "displayName": "நரேஷ் ரங்கன்",
      "photoUrl": "//lh5.googleusercontent.com/-TaTXj_hZ91s/AAAAAAAAAAI/AAAAAAAADoo/90Zi0sD4B6o/s50-c-k-no/photo.jpg",
      "userId": "105647784390519088239"
     },
     "user_tz": 300
    },
    "id": "KI6Eb3rh8o0W",
    "outputId": "5ea63cce-3068-4f6a-8547-0f7f010b56fc"
   },
   "outputs": [],
   "source": [
    "import pandas as pd\n",
    "data=pd.DataFrame(dataset)"
   ]
  },
  {
   "cell_type": "code",
   "execution_count": 45,
   "metadata": {
    "colab": {
     "autoexec": {
      "startup": false,
      "wait_interval": 0
     }
    },
    "colab_type": "code",
    "id": "oleKq-MdBzcx"
   },
   "outputs": [
    {
     "name": "stderr",
     "output_type": "stream",
     "text": [
      "/home/controller/anaconda3/lib/python3.6/site-packages/ipykernel_launcher.py:1: DeprecationWarning: \n",
      ".ix is deprecated. Please use\n",
      ".loc for label based indexing or\n",
      ".iloc for positional indexing\n",
      "\n",
      "See the documentation here:\n",
      "http://pandas.pydata.org/pandas-docs/stable/indexing.html#ix-indexer-is-deprecated\n",
      "  \"\"\"Entry point for launching an IPython kernel.\n"
     ]
    }
   ],
   "source": [
    "y=data.ix[:,0]"
   ]
  },
  {
   "cell_type": "code",
   "execution_count": 46,
   "metadata": {
    "colab": {
     "autoexec": {
      "startup": false,
      "wait_interval": 0
     },
     "base_uri": "https://localhost:8080/",
     "height": 34,
     "output_extras": [
      {
       "item_id": 1
      }
     ]
    },
    "colab_type": "code",
    "executionInfo": {
     "elapsed": 508,
     "status": "ok",
     "timestamp": 1520957471353,
     "user": {
      "displayName": "நரேஷ் ரங்கன்",
      "photoUrl": "//lh5.googleusercontent.com/-TaTXj_hZ91s/AAAAAAAAAAI/AAAAAAAADoo/90Zi0sD4B6o/s50-c-k-no/photo.jpg",
      "userId": "105647784390519088239"
     },
     "user_tz": 300
    },
    "id": "xPP8VSsYIQm0",
    "outputId": "51890778-1bf4-4854-c8f4-f687460eaad0"
   },
   "outputs": [
    {
     "name": "stdout",
     "output_type": "stream",
     "text": [
      "0        ham\n",
      "1        ham\n",
      "2       spam\n",
      "3        ham\n",
      "4        ham\n",
      "5       spam\n",
      "6        ham\n",
      "7        ham\n",
      "8       spam\n",
      "9       spam\n",
      "10       ham\n",
      "11      spam\n",
      "12      spam\n",
      "13       ham\n",
      "14       ham\n",
      "15      spam\n",
      "16       ham\n",
      "17       ham\n",
      "18       ham\n",
      "19      spam\n",
      "20       ham\n",
      "21       ham\n",
      "22       ham\n",
      "23       ham\n",
      "24       ham\n",
      "25       ham\n",
      "26       ham\n",
      "27       ham\n",
      "28       ham\n",
      "29       ham\n",
      "        ... \n",
      "5542     ham\n",
      "5543     ham\n",
      "5544     ham\n",
      "5545     ham\n",
      "5546     ham\n",
      "5547    spam\n",
      "5548     ham\n",
      "5549     ham\n",
      "5550     ham\n",
      "5551     ham\n",
      "5552     ham\n",
      "5553     ham\n",
      "5554     ham\n",
      "5555     ham\n",
      "5556     ham\n",
      "5557     ham\n",
      "5558     ham\n",
      "5559     ham\n",
      "5560     ham\n",
      "5561     ham\n",
      "5562     ham\n",
      "5563     ham\n",
      "5564     ham\n",
      "5565     ham\n",
      "5566    spam\n",
      "5567    spam\n",
      "5568     ham\n",
      "5569     ham\n",
      "5570     ham\n",
      "5571     ham\n",
      "Name: 0, Length: 5572, dtype: object\n"
     ]
    }
   ],
   "source": [
    "print(y)"
   ]
  },
  {
   "cell_type": "code",
   "execution_count": 47,
   "metadata": {
    "colab": {
     "autoexec": {
      "startup": false,
      "wait_interval": 0
     }
    },
    "colab_type": "code",
    "id": "Oym9wpvBIR4c"
   },
   "outputs": [],
   "source": [
    "X_words = data.ix[:,1]\n",
    "\n",
    "from sklearn.cross_validation import train_test_split\n",
    "X_train, X_test, y_train, y_test = train_test_split(X_words, y, test_size = 0.2, random_state = 0)\n",
    "# type(X_test)\n",
    "# type(X_words)"
   ]
  },
  {
   "cell_type": "code",
   "execution_count": 20,
   "metadata": {
    "colab": {
     "autoexec": {
      "startup": false,
      "wait_interval": 0
     }
    },
    "colab_type": "code",
    "id": "dCCvggbCKKe4"
   },
   "outputs": [
    {
     "name": "stdout",
     "output_type": "stream",
     "text": [
      "Reading twitter - 1grams ...\n"
     ]
    }
   ],
   "source": [
    "# from keras.preprocessing.text import Tokenizer\n",
    "\n",
    "# from ekphrasis.classes.preprocessor import TextPreProcessor\n",
    "# from ekphrasis.classes.tokenizer import SocialTokenizer\n",
    "# from ekphrasis.dicts.emoticons import emoticons\n",
    "\n",
    "# text_processor = TextPreProcessor(\n",
    "#     # terms that will be normalized\n",
    "#     normalize=['url', 'email', 'percent', 'money', 'phone', 'user',\n",
    "#         'time', 'url', 'date', 'number'],\n",
    "#     # terms that will be annotated\n",
    "#     annotate={},\n",
    "#     fix_html=False,  # fix HTML tokens\n",
    "    \n",
    "#     # corpus from which the word statistics are going to be used \n",
    "#     # for word segmentation \n",
    "# #     segmenter=\"twitter\", \n",
    "    \n",
    "#     # corpus from which the word statistics are going to be used \n",
    "#     # for spell correction\n",
    "#     corrector=\"twitter\", \n",
    "    \n",
    "#     unpack_hashtags=False,  # perform word segmentation on hashtags\n",
    "#     unpack_contractions=False,  # Unpack contractions (can't -> can not)\n",
    "#     spell_correct_elong=True,  # spell correction for elongated words\n",
    "    \n",
    "#     # select a tokenizer. You can use SocialTokenizer, or pass your own\n",
    "#     # the tokenizer, should take as input a string and return a list of tokens\n",
    "# #     tokenizer=SocialTokenizer(lowercase=True).tokenize,\n",
    "    \n",
    "#     # list of dictionaries, for replacing tokens extracted from the text,\n",
    "#     # with other expressions. You can pass more than one dictionaries.\n",
    "# #     dicts=[emoticons]\n",
    "# )"
   ]
  },
  {
   "cell_type": "code",
   "execution_count": 48,
   "metadata": {
    "colab": {
     "autoexec": {
      "startup": false,
      "wait_interval": 0
     }
    },
    "colab_type": "code",
    "collapsed": true,
    "id": "hDrByIqFKRap"
   },
   "outputs": [],
   "source": [
    "# from keras.preprocessing.sequence import pad_sequences\n",
    "import re\n",
    "# import nltk\n",
    "# nltk.download()\n",
    "from nltk.corpus import stopwords\n",
    "from nltk.tokenize import word_tokenize\n",
    "from nltk.stem.porter import *\n",
    "stop_words=stopwords.words(\"english\")\n",
    "porter = PorterStemmer()"
   ]
  },
  {
   "cell_type": "markdown",
   "metadata": {
    "colab_type": "text",
    "id": "FpKIPcCKfnnL"
   },
   "source": [
    "# Create a Pre-Processing Step - Replace Phone Numbers, Email IDs and Web Pages to a standard Text"
   ]
  },
  {
   "cell_type": "code",
   "execution_count": 49,
   "metadata": {
    "colab": {
     "autoexec": {
      "startup": false,
      "wait_interval": 0
     }
    },
    "colab_type": "code",
    "id": "qqbSYNeEHJBb"
   },
   "outputs": [],
   "source": [
    "from sklearn.feature_extraction.text import CountVectorizer,TfidfTransformer\n",
    "from textblob import TextBlob\n",
    "# cv = CountVectorizer(analyzer=split_into_lemmas).fit(X_train)\n",
    "\n",
    "\n",
    "def preprocess_text(message):\n",
    "    message = message.lower()\n",
    "    cleaned = re.sub(r'\\b[\\w\\-.]+?@\\w+?\\.\\w{2,4}\\b', ' emailaddr ', message)\n",
    "    cleaned = re.sub(r'(http[s]?\\S+)|(\\w+\\.[A-Za-z]{2,4}\\S*)', ' httpaddr ',\n",
    "                     cleaned)\n",
    "    cleaned = re.sub(r'£|\\$', 'moneysymb', cleaned)\n",
    "    cleaned = re.sub(\n",
    "        r'\\b(\\+\\d{1,2}\\s)?\\d?[\\-(.]?\\d{3}\\)?[\\s.-]?\\d{3}[\\s.-]?\\d{4}\\b',\n",
    "        ' phonenumbr ', cleaned)\n",
    "    cleaned = re.sub(r'\\d+(\\.\\d+)?', ' numbr ', cleaned)\n",
    "    cleaned = re.sub(r'[^\\w\\d\\s]', ' ', cleaned)\n",
    "    cleaned = re.sub(r'\\s+', ' ', cleaned)\n",
    "    cleaned = re.sub(r'^\\s+|\\s+?$', '', cleaned)\n",
    "    cleaned = cleaned.split()\n",
    "    ps = PorterStemmer()\n",
    "    cleaned = [ps.stem(word) for word in cleaned if not word in set(stop_words)]\n",
    "    cleaned = ' '.join(cleaned)\n",
    "    return cleaned"
   ]
  },
  {
   "cell_type": "code",
   "execution_count": 50,
   "metadata": {
    "colab": {
     "autoexec": {
      "startup": false,
      "wait_interval": 0
     }
    },
    "colab_type": "code",
    "id": "tbFqxtTHHJvx"
   },
   "outputs": [
    {
     "name": "stdout",
     "output_type": "stream",
     "text": [
      "{'good': 1928, 'movi': 3046, 'ok': 3303, 'leav': 2636, 'hourish': 2192, 'free': 1762, 'give': 1896, 'otherwis': 3372, 'nalla': 3106, 'adi': 57, 'entey': 1451, 'nattil': 3122, 'kittum': 2555, 'emigr': 1425, 'someth': 4393, 'mayb': 2886, 'numbr': 3255, 'bit': 495, 'hope': 2176, 'got': 1944, 'home': 2159, 'babe': 360, 'still': 4532, 'awak': 344, 'kay': 2516, 'sinc': 4283, 'alreadi': 147, 'workin': 5390, 'get': 1875, 'job': 2452, 'said': 4049, 'matter': 2878, 'mind': 2948, 'say': 4088, 'oh': 3298, 'yeah': 5478, 'diet': 1215, 'flew': 1688, 'window': 5336, 'sorri': 4415, 'thing': 4809, 'may': 2885, 'pub': 3748, 'later': 2613, 'ill': 2273, 'call': 678, 'even': 1498, 'idea': 2253, 'dear': 1123, 'reach': 3841, 'room': 4001, 'look': 2733, 'scrumptiou': 4113, 'daddi': 1088, 'want': 5220, 'eat': 1375, 'night': 3186, 'long': 2730, 'badrith': 368, 'chennai': 793, 'sure': 4634, 'pick': 3534, 'us': 5097, 'competit': 924, 'da': 1083, 'car': 710, 'park': 3440, 'okay': 3304, 'soon': 4406, 'best': 461, 'yar': 5470, 'els': 1416, 'thk': 4816, 'sort': 4417, 'funni': 1818, 'yup': 5520, 'izzit': 2399, 'rain': 3807, 'heavili': 2096, 'co': 877, 'mrt': 3052, 'outsid': 3386, 'way': 5244, 'ur': 5086, 'pop': 3612, 'ask': 286, 'bout': 561, 'around': 267, 'tonght': 4904, 'wen': 5278, 'girl': 1891, 'come': 907, 'talk': 4698, 'cool': 974, 'tyler': 5010, 'take': 4693, 'gonna': 1927, 'buy': 659, 'drop': 1329, 'place': 3554, 'tonight': 4906, 'total': 4926, 'order': 3356, 'quarter': 3782, 'enough': 1447, 'work': 5387, 'time': 4857, 'westshor': 5290, 'hyde': 2233, 'villag': 5161, 'near': 3133, 'hous': 2193, 'would': 5403, 'woke': 5372, 'drama': 1312, 'pl': 3553, 'famili': 1581, 'struggl': 4571, 'hot': 2187, 'sun': 4613, 'strang': 4554, 'httpaddr': 2208, 'reason': 3856, 'ego': 1397, 'go': 1912, 'invit': 2362, 'actual': 49, 'necess': 3137, 'seriou': 4164, 'reppurcuss': 3928, 'what': 5294, 'hill': 2128, 'monster': 3020, 'great': 1976, 'day': 1114, 'fine': 1657, 'busi': 654, 'though': 4825, 'mani': 2844, 'compani': 919, 'tell': 4741, 'languag': 2601, 'honey': 2165, 'find': 1656, 'much': 3067, 'sell': 4146, 'predict': 3658, 'nigeria': 3184, 'use': 5101, 'import': 2289, 'repli': 3926, 'monday': 3011, 'aight': 109, 'lemm': 2646, 'know': 2561, 'today': 4882, 'plan': 3557, 'readi': 3846, 'moan': 2992, 'scream': 4109, 'right': 3972, 'make': 2827, 'load': 2711, 'realli': 3852, 'nasti': 3116, 'cough': 993, 'dri': 1321, 'shot': 4241, 'help': 2109, 'mobil': 2995, 'month': 3021, 'entitl': 1453, 'updat': 5079, 'latest': 2614, 'colour': 903, 'camera': 691, 'phonenumbr': 3526, 'sky': 4313, 'quit': 3790, 'dark': 1101, 'liao': 2660, 'excus': 1530, 'run': 4030, 'rite': 3983, 'hee': 2098, 'love': 2756, 'sat': 4075, 'wan': 5216, 'watch': 5232, 'infern': 2319, 'affair': 80, 'wif': 5321, 'darren': 1105, 'xy': 5464, 'hello': 2106, 'news': 3170, 'wait': 5203, 'fifth': 1640, 'week': 5263, 'im': 2276, 'woozl': 5384, 'weasel': 5250, 'exet': 1534, 'thank': 4782, 'subscript': 4590, 'rington': 3978, 'uk': 5021, 'charg': 769, 'moneysymb': 3014, 'pleas': 3567, 'confirm': 948, 'ye': 5477, 'dunno': 1351, 'late': 2612, 'insid': 2336, 'ate': 303, 'spageddi': 4431, 'lor': 2740, 'gal': 1831, 'laugh': 2616, 'gorgeou': 1941, 'keep': 2520, 'pix': 3550, 'cum': 1061, 'fantast': 1587, 'chanc': 762, 'anyth': 208, 'need': 3143, 'bigger': 480, 'life': 2667, 'lift': 2672, 'lose': 2742, 'live': 2701, 'think': 4810, 'first': 1667, 'person': 3503, 'die': 1213, 'usual': 5107, 'guy': 2013, 'pass': 3450, 'last': 2610, 'ahold': 106, 'anybodi': 203, 'let': 2655, 'throw': 4835, 'reassur': 3857, 'crazi': 1017, 'world': 5392, 'nokia': 3212, 'win': 5331, 'auction': 319, 'part': 3441, 'send': 4150, 'hg': 2121, 'suit': 4606, 'land': 2595, 'row': 4007, 'jhl': 2443, 'almost': 143, 'see': 4132, 'sec': 4123, 'unintent': 5053, 'bad': 366, 'finger': 1659, 'train': 4940, 'play': 3562, 'along': 145, 'fifteen': 1639, 'min': 2946, 'warn': 5225, 'haf': 2021, 'eaten': 1376, 'wat': 5231, 'theyr': 4804, 'lot': 2746, 'hospit': 2183, 'medic': 2897, 'safe': 4045, 'fuck': 1801, 'miss': 2966, 'money': 3013, 'toward': 4932, 'net': 3155, 'crave': 1016, 'happen': 2046, 'adventur': 72, 'wow': 5406, 'mean': 2892, 'guess': 2005, 'gave': 1849, 'boston': 554, 'men': 2916, 'chang': 763, 'search': 4120, 'locat': 2715, 'nyc': 3265, 'cuz': 1078, 'signin': 4270, 'page': 3409, 'custom': 1070, 'servic': 4168, 'repres': 3929, 'freephon': 1769, 'pm': 3579, 'guarante': 2000, 'cash': 727, 'prize': 3697, 'tot': 4925, 'juz': 2494, 'oni': 3324, 'yet': 5491, 'chikku': 805, 'abt': 18, 'tht': 4839, 'stop': 4541, 'irrit': 2376, 'msging': 3055, 'horribl': 2182, 'mac': 2799, 'forgot': 1735, 'toot': 4910, 'prepar': 3664, 'shall': 4189, 'exhaust': 1535, 'morn': 3027, 'wine': 5337, 'pie': 3537, 'sleep': 4321, 'well': 5275, 'wa': 5194, 'effici': 1393, 'gee': 1857, 'thanx': 4786, 'ring': 3977, 'whole': 5312, 'brat': 577, 'pull': 3752, 'hair': 2026, 'gobi': 1914, 'art': 275, 'colleg': 901, 'prob': 3701, 'email': 1420, 'account': 36, 'number': 3254, 'probabl': 3702, 'smile': 4352, 'hppnss': 2203, 'tear': 4730, 'sorrow': 4416, 'heart': 2091, 'like': 2677, 'mine': 2949, 'wil': 5325, 'care': 713, 'forevr': 1730, 'goodfriend': 1930, 'master': 2868, 'oso': 3369, 'bore': 549, 'happi': 2049, 'birthday': 493, 'dream': 1317, 'true': 4968, 'lunch': 2784, 'aft': 89, 'dat': 1107, 'str': 4552, 'orchard': 3355, 'babi': 361, 'promis': 3719, 'treat': 4953, 'bet': 462, 'fat': 1596, 'press': 3673, 'button': 658, 'also': 150, 'feel': 1617, 'yesterday': 5490, 'til': 4854, 'raji': 3811, 'favour': 1606, 'convey': 970, 'wish': 5345, 'nimya': 3191, 'hey': 2119, 'big': 479, 'deal': 1121, 'balanc': 375, 'current': 1065, 'pound': 3633, 'maxim': 2882, 'msg': 3054, 'cc': 739, 'hl': 2139, 'th': 4779, 'campu': 692, 'atm': 308, 'could': 994, 'hour': 2191, 'two': 5001, 'oop': 3336, 'shower': 4246, 'garag': 1840, 'collaps': 898, 'univers': 5057, 'stuff': 4579, 'quick': 3787, 'question': 3786, 'lol': 2723, 'knew': 2558, 'saw': 4087, 'dollar': 1286, 'store': 4549, 'empti': 1430, 'without': 5353, 'wisdom': 5343, 'eye': 1560, 'amp': 172, 'frnd': 1786, 'alwi': 155, 'touch': 4928, 'sweet': 4660, 'ball': 376, 'move': 3045, 'spin': 4452, 'difficult': 1218, 'bat': 401, 'yo': 5500, 'stock': 4534, 'tomorrow': 4899, 'tri': 4958, 'dubsack': 1340, 'how': 2195, 'champ': 759, 'glasgow': 1900, 'puriti': 3761, 'friendship': 1782, 'read': 3844, 'forward': 1745, 'messag': 2924, 'name': 3108, 'gud': 2002, 'evng': 1516, 'musthu': 3086, 'enjoy': 1444, 'sit': 4295, 'mu': 3065, 'everyon': 1506, 'vijay': 5156, 'film': 1648, 'differ': 1217, 'borderlin': 548, 'whatev': 5295, 'inev': 2317, 'thought': 4826, 'id': 2252, 'tv': 4991, 'excit': 1529, 'narcot': 3113, 'situat': 4300, 'bought': 559, 'egg': 1396, 'show': 4245, 'haha': 2022, 'heard': 2089, 'text': 4768, 'god': 1915, 'creat': 1022, 'gap': 1839, 'btwn': 628, 'sum': 4609, 'vri': 5190, 'special': 4440, 'fill': 1647, 'hold': 2153, 'hand': 2036, 'plz': 3578, 'dont': 1291, 'leg': 2641, 'lt': 2773, 'gt': 1997, 'bu': 629, 'sad': 4042, 'puppi': 3758, 'nois': 3209, 'cover': 1004, 'face': 1565, 'kiss': 2553, 'project': 3716, 'pa': 3404, 'small': 4342, 'kid': 2540, 'boost': 545, 'secret': 4126, 'energi': 1437, 'yun': 5516, 'wkg': 5361, 'btw': 627, 'nu': 3249, 'sc': 4092, 'wana': 5217, 'specialis': 4441, 'wad': 5196, 'offic': 3291, 'wonder': 5378, 'sore': 4413, 'derp': 1176, 'wors': 5395, 'dude': 1343, 'alway': 154, 'parti': 3442, 'file': 1646, 'complaint': 927, 'three': 4831, 'drug': 1331, 'abus': 21, 'sef': 4138, 'dey': 1197, 'meanwhil': 2894, 'darl': 1103, 'anji': 187, 'password': 3454, 'uncl': 5033, 'abbey': 6, 'new': 3165, 'year': 5479, 'abiola': 11, 'march': 2851, 'end': 1433, 'problem': 3703, 'capit': 707, 'never': 3162, 'complet': 929, 'far': 1588, 'ladi': 2586, 'arrang': 270, 'boy': 565, 'propsd': 3730, 'bt': 625, 'didnt': 1212, 'gv': 2014, 'lv': 2791, 'lttr': 2775, 'threw': 4832, 'thm': 4818, 'decid': 1131, 'aproach': 241, 'dt': 1338, 'truck': 4967, 'speed': 4444, 'wn': 5366, 'hit': 2135, 'ran': 3819, 'hell': 2104, 'save': 4086, 'hw': 2232, 'cn': 873, 'fast': 1593, 'instantli': 2340, 'shout': 4243, 'thi': 4807, 'happili': 2051, 'gthr': 1998, 'drink': 1322, 'evrydi': 1520, 'moral': 3025, 'stori': 4550, 'hv': 2230, 'ni': 3176, 'nice': 3178, 'immedi': 2283, 'lesson': 2654, 'blank': 505, 'finish': 1660, 'wrk': 5417, 'fanci': 1585, 'meetin': 2901, 'wiv': 5356, 'tonit': 4907, 'break': 584, 'dabook': 1086, 'hr': 2204, 'nite': 3196, 'mid': 2934, 'onum': 3330, 'ela': 1405, 'normal': 3226, 'fb': 1608, 'coupl': 999, 'minut': 2960, 'dun': 1349, 'rem': 3908, 'silver': 4275, 'black': 499, 'one': 3323, 'set': 4169, 'soul': 4419, 'fire': 1663, 'spark': 4436, 'flame': 1681, 'rawr': 3831, 'xoxo': 5451, 'hella': 2105, 'ga': 1826, 'grand': 1962, 'natur': 3123, 'galileo': 1832, 'littl': 2700, 'oki': 3307, 'back': 365, 'exactli': 1524, 'anyway': 212, 'jide': 2447, 'studi': 4575, 'visit': 5170, 'hui': 2214, 'xin': 5447, 'lib': 2661, 'jamster': 2410, 'wallpap': 5212, 'appli': 230, 'either': 1403, 'anyplac': 207, 'boytoy': 568, 'geeee': 1858, 'bed': 432, 'cuddl': 1057, 'boo': 538, 'mom': 3008, 'tortilla': 4921, 'soup': 4422, 'yummmm': 5515, 'lasagna': 2609, 'vodka': 5180, 'knicker': 2559, 'beg': 439, 'xx': 5454, 'luv': 2787, 'other': 3371, 'goodmorn': 1933, 'dan': 1093, 'remind': 3914, 'fun': 1811, 'teacher': 4728, 'longer': 2731, 'cut': 1072, 'short': 4236, 'proof': 3724, 'sender': 4151, 'sent': 4157, 'date': 1109, 'that': 4788, 'everyth': 1508, 'via': 5146, 'gudnit': 2004, 'tc': 4724, 'practic': 3649, 'class': 848, 'bsn': 622, 'advis': 74, 'massag': 2866, 'oil': 3301, 'fave': 1603, 'posit': 3622, 'bitch': 496, 'motorola': 3041, 'upto': 5085, 'mth': 3061, 'price': 3684, 'linerent': 2684, 'txt': 5003, 'tooth': 4911, 'mobileupd': 2998, 'optout': 3351, 'wv': 5437, 'oic': 3300, 'better': 465, 'quickli': 3788, 'bath': 404, 'settl': 4170, 'book': 540, 'sth': 4528, 'spec': 4439, 'membership': 2913, 'px': 3771, 'charl': 771, 'peopl': 3486, 'dearer': 1124, 'de': 1119, 'meet': 2900, 'pain': 3412, 'dem': 1160, 'jay': 2420, 'retard': 3954, 'karnan': 2510, 'till': 4855, 'directli': 1234, 'goto': 1948, 'doctor': 1270, 'congrat': 952, 'pend': 3482, 'mail': 2822, 'mother': 3037, 'audiit': 320, 'reloc': 3907, 'stay': 4512, 'town': 4933, 'sometim': 4395, 'remembr': 3913, 'someon': 4388, 'forget': 1732, 'bcoz': 419, 'rememb': 3911, 'everytim': 1510, 'bslvyl': 621, 'anywher': 213, 'damn': 1092, 'hunt': 2222, 'beauti': 426, 'intellig': 2344, 'adjust': 58, 'cooper': 976, 'wife': 5322, 'law': 2620, 'allow': 142, 'okor': 3309, 'cherish': 795, 'mojibiola': 3005, 'six': 4302, 'csh': 1043, 'cost': 987, 'tsandc': 4974, 'info': 2320, 'regist': 3895, 'happiest': 2050, 'charact': 768, 'understand': 5040, 'full': 1809, 'joke': 2459, 'school': 4099, 'fee': 1616, 'florida': 1699, 'seem': 4136, 'holla': 2157, 'friend': 1780, 'valentin': 5120, 'url': 5093, 'havent': 2072, 'blur': 524, 'dad': 1087, 'went': 5281, 'cant': 702, 'chuckin': 834, 'red': 3878, 'green': 1979, 'trainner': 4941, 'carryin': 723, 'bac': 364, 'boss': 553, 'told': 4889, 'fix': 1673, 'cheaper': 781, 'kept': 2525, 'regret': 3897, 'etc': 1488, 'buff': 635, 'wind': 5334, 'sexi': 4174, 'singl': 4288, 'age': 95, 'follow': 1714, 'gender': 1861, 'wither': 5351, 'gay': 1850, 'start': 4505, 'request': 3931, 'came': 690, 'doubl': 1300, 'coin': 892, 'factori': 1568, 'gotta': 1949, 'nitro': 3197, 'style': 4582, 'garment': 1844, 'freemsg': 1768, 'fav': 1602, 'xma': 5448, 'tone': 4902, 'real': 3847, 'anoth': 196, 'done': 1289, 'sm': 4340, 'video': 5151, 'unlimit': 5063, 'camcord': 689, 'miiiiiiissssssssss': 2938, 'abl': 13, 'contact': 961, 'respons': 3945, 'offer': 3290, 'fone': 1717, 'deliveri': 1157, 'andro': 183, 'ice': 2247, 'approx': 237, 'per': 3487, 'approv': 236, 'panalam': 3418, 'post': 3625, 'hurt': 2225, 'teas': 4731, 'cri': 1027, 'rose': 4003, 'grave': 1969, 'stupid': 4581, 'parent': 3437, 'reveal': 3959, 'po': 3581, 'box': 564, 'wu': 5431, 'friday': 1778, 'wot': 5400, 'becom': 429, 'slob': 4333, 'mesag': 2922, 'sir': 4292, 'whore': 5313, 'unbeliev': 5031, 'refer': 3883, 'arriv': 272, 'sch': 4097, 'neva': 3160, 'st': 4488, 'protect': 3732, 'threat': 4830, 'sib': 4261, 'sensit': 4156, 'inform': 2321, 'pin': 3544, 'thru': 4838, 'share': 4197, 'headach': 2080, 'figur': 1644, 'trust': 4971, 'math': 2873, 'disturb': 1255, 'inch': 2298, 'pleasur': 3568, 'pimpl': 3543, 'omg': 3318, 'pay': 3466, 'rent': 3919, 'bank': 387, 'authoris': 327, 'payment': 3469, 'crowd': 1035, 'advic': 73, 'cardiff': 712, 'ad': 50, 'crap': 1014, 'borin': 550, 'ya': 5465, 'boggi': 530, 'biatch': 477, 'nxt': 3263, 'il': 2271, 'ave': 336, 'khelat': 2534, 'kintu': 2549, 'opponent': 3342, 'dhort': 1202, 'lage': 2588, 'rule': 4025, 'phone': 3524, 'receiv': 3864, 'qualiti': 3781, 'mca': 2888, 'conform': 950, 'laid': 2590, 'dog': 1276, 'direct': 1233, 'mob': 2993, 'join': 2458, 'largest': 2608, 'network': 3159, 'txting': 5006, 'gravel': 1970, 'nt': 3246, 'ec': 1379, 'aah': 1, 'bless': 509, 'arm': 261, 'ah': 101, 'switch': 4669, 'dammit': 1091, 'sound': 4420, 'cold': 896, 'radiat': 3800, 'man': 2834, 'sunroof': 4618, 'sux': 4645, 'plumber': 3575, 'tape': 4708, 'wrench': 5413, 'borrow': 552, 'wk': 5358, 'gr': 1956, 'classic': 849, 'poli': 3595, 'umma': 5026, 'yellow': 5483, 'card': 711, 'travel': 4949, 'gone': 1925, 'buck': 630, 'brand': 575, 'fifti': 1641, 'bare': 393, 'shoe': 4229, 'romcapspam': 3999, 'respond': 3944, 'presenc': 3670, 'warm': 5224, 'outgo': 3382, 'bring': 600, 'breath': 587, 'sunshin': 4619, 'content': 963, 'princess': 3688, 'wun': 5436, 'angri': 185, 'restaur': 3947, 'roast': 3988, 'kind': 2544, 'mate': 2872, 'hi': 2123, 'intrud': 2357, 'tuition': 4982, 'paid': 3411, 'semest': 4147, 'suntec': 4620, 'tap': 4707, 'spile': 4451, 'seven': 4171, 'broad': 606, 'canal': 695, 'thangam': 4781, 'held': 2102, 'prasad': 3654, 'shoot': 4231, 'nope': 3221, 'accept': 27, 'gift': 1885, 'sooner': 4407, 'gari': 1843, 'caus': 735, 'ptbo': 3746, 'might': 2937, 'second': 4124, 'machin': 2804, 'filthyguy': 1651, 'rude': 4021, 'slo': 4332, 'hard': 2052, 'xxx': 5456, 'vikki': 5158, 'olav': 3312, 'mandara': 2839, 'kano': 2507, 'trishul': 4962, 'theatr': 4792, 'wit': 5349, 'site': 4296, 'simul': 4282, 'test': 4765, 'tough': 4929, 'gloucesterroad': 1905, 'uup': 5111, 'nah': 3103, 'goin': 1918, 'vl': 5177, 'bcum': 420, 'av': 330, 'ta': 4682, 'mum': 3073, 'manag': 2835, 'oxygen': 3400, 'resort': 3941, 'roller': 3997, 'option': 3350, 'shd': 4200, 'ard': 249, 'add': 51, 'konw': 2566, 'waht': 5202, 'rael': 3802, 'gving': 2015, 'yuo': 5518, 'exmpel': 1539, 'jsut': 2477, 'ese': 1478, 'tih': 4852, 'evrey': 1518, 'splle': 4462, 'wrnog': 5421, 'sitll': 4297, 'ra': 3797, 'wihtuot': 5324, 'ayn': 355, 'mitsak': 2978, 'goodnight': 1934, 'flat': 1683, 'away': 346, 'alot': 146, 'woman': 5374, 'next': 3173, 'space': 4429, 'furnitur': 1819, 'lock': 2716, 'key': 2530, 'jenn': 2431, 'di': 1203, 'yiju': 5497, 'esaplanad': 1475, 'decim': 1132, 'lakh': 2591, 'spell': 4446, 'season': 4121, 'ref': 3882, 'unsubscrib': 5073, 'packag': 3407, 'term': 4757, 'resubmit': 3951, 'expiri': 1548, 'themob': 4797, 'stalk': 4496, 'profil': 3712, 'appreci': 233, 'map': 2847, 'semi': 4148, 'argument': 257, 'apart': 215, 'experi': 1545, 'american': 160, 'voic': 5181, 'admir': 61, 'opt': 3346, 'recd': 3862, 'cust': 1068, 'huh': 2213, 'mel': 2907, 'opp': 3341, 'confus': 951, 'tt': 4977, 'choic': 823, 'den': 1162, 'piss': 3548, 'sister': 4294, 'accordingli': 35, 'repeat': 3923, 'word': 5386, 'model': 3000, 'num': 3253, 'worri': 5394, 'photo': 3527, 'spif': 4450, 'workag': 5388, 'check': 784, 'iq': 2372, 'everi': 1502, 'nok': 3211, 'txtin': 5005, 'christma': 832, 'merri': 2921, 'ma': 2795, 'tmr': 4873, 'brin': 599, 'lar': 2604, 'aiya': 114, 'properli': 3727, 'sheet': 4202, 'imma': 2282, 'definit': 1145, 'restock': 3948, 'thanksgiv': 4783, 'act': 45, 'interest': 2347, 'kick': 2537, 'hurri': 2223, 'regard': 3894, 'textbook': 4770, 'intro': 2356, 'algorithm': 133, 'edit': 1384, 'greet': 1980, 'kalli': 2503, 'durban': 1353, 'exam': 1525, 'harder': 2054, 'nbme': 3129, 'posibl': 3621, 'dnt': 1265, 'centuri': 748, 'cm': 870, 'frwd': 1799, 'thnk': 4820, 'wah': 5197, 'lucki': 2779, 'din': 1224, 'cab': 667, 'door': 1295, 'step': 4521, 'ever': 1501, 'knw': 2563, 'giv': 1895, 'salari': 4053, 'skype': 4315, 'kz': 2579, 'sura': 4633, 'given': 1897, 'ultimatum': 5024, 'countin': 997, 'aburo': 20, 'ago': 99, 'anti': 202, 'medicin': 2898, 'abj': 12, 'serv': 4166, 'alon': 144, 'announc': 192, 'recent': 3866, 'unabl': 5030, 'schedul': 4098, 'websit': 5255, 'slipper': 4331, 'privat': 3695, 'statement': 4509, 'un': 5029, 'redeem': 3879, 'point': 3590, 'identifi': 2256, 'code': 888, 'expir': 1547, 'draw': 1316, 'line': 2682, 'valid': 5121, 'pig': 3539, 'clover': 866, 'aiyah': 115, 'nydc': 3266, 'wheellock': 5299, 'buzi': 662, 'ipod': 2371, 'mp': 3047, 'player': 3563, 'proze': 3737, 'norcorp': 3223, 'ltd': 2774, 'mtmsgrcvd': 3063, 'eldest': 1409, 'staff': 4492, 'placement': 3555, 'amrita': 174, 'put': 3766, 'skip': 4311, 'front': 1796, 'funer': 1815, 'jst': 2475, 'tat': 4713, 'fit': 1670, 'terribl': 4760, 'mood': 3023, 'drive': 1325, 'brother': 612, 'swing': 4667, 'basic': 399, 'smth': 4359, 'present': 3671, 'lei': 2644, 'write': 5415, 'sign': 4267, 'nooooooo': 3219, 'death': 1126, 'cabl': 669, 'internet': 2351, 'outag': 3378, 'half': 2029, 'rental': 3920, 'cross': 1034, 'ntwk': 3248, 'usf': 5103, 'stoner': 4539, 'xavier': 5442, 'smoke': 4354, 'alright': 148, 'appendix': 226, 'rang': 3824, 'howev': 2199, 'imposs': 2292, 'chill': 810, 'recpt': 3876, 'process': 3708, 'offici': 3292, 'england': 1442, 'flag': 1678, 'yer': 5488, 'game': 1834, 'eng': 1438, 'wx': 5439, 'vodafon': 5179, 'four': 1748, 'digit': 1221, 'select': 4141, 'award': 345, 'match': 2871, 'claim': 842, 'dine': 1225, 'detail': 1189, 'orang': 3354, 'mobilesdirect': 2996, 'stoptxt': 4547, 'hostel': 2185, 'clair': 843, 'havin': 2074, 'wanna': 5218, 'chat': 777, 'callsmoneysymb': 686, 'minmoremobsemspobox': 2955, 'aint': 110, 'tho': 4823, 'scari': 4095, 'yest': 5489, 'mrw': 3053, 'afternoon': 91, 'mall': 2832, 'sumthin': 4612, 'shant': 4195, 'anymor': 205, 'jia': 2445, 'terrif': 4761, 'food': 1719, 'simpli': 4280, 'open': 3337, 'leh': 2643, 'slot': 4334, 'dai': 1089, 'resum': 3953, 'gentl': 1865, 'deep': 1138, 'tight': 4850, 'pussi': 3765, 'coher': 890, 'twenti': 4994, 'major': 2826, 'role': 3995, 'commun': 917, 'outreach': 3385, 'rock': 3991, 'arrest': 271, 'earn': 1366, 'ignor': 2265, 'macha': 2801, 'upset': 5083, 'assum': 297, 'begin': 441, 'anytim': 211, 'address': 55, 'appl': 228, 'pair': 3414, 'malarki': 2830, 'gist': 1894, 'especi': 1481, 'woulda': 5404, 'realiz': 3851, 'escap': 1477, 'kavalan': 2515, 'contin': 964, 'envi': 1460, 'pretti': 3679, 'recoveri': 3875, 'rather': 3829, 'coop': 975, 'dinner': 1228, 'nìte': 3270, 'jess': 2437, 'eve': 1496, 'luton': 2786, 'pictur': 3536, 'facebook': 1566, 'perfect': 3491, 'partner': 3446, 'sentenc': 4158, 'concentr': 938, 'educ': 1386, 'career': 715, 'holi': 2155, 'shit': 4220, 'bud': 631, 'skye': 4314, 'murder': 3080, 'slow': 4335, 'biola': 487, 'fne': 1709, 'glad': 1898, 'goodo': 1937, 'must': 3084, 'speak': 4438, 'potato': 3629, 'ratio': 3830, 'final': 1652, 'stomach': 4536, 'trauma': 4947, 'swear': 4657, 'weight': 5267, 'doc': 1268, 'appoint': 232, 'tire': 4860, 'shove': 4244, 'ugh': 5018, 'bodi': 529, 'sonyericsson': 4405, 'member': 2912, 'aunt': 325, 'flow': 1700, 'develop': 1193, 'ovarian': 3390, 'cyst': 1082, 'bc': 414, 'shrink': 4251, 'okmail': 3308, 'dave': 1112, 'notic': 3235, 'collect': 900, 'tenerif': 4753, 'holiday': 2156, 'landlin': 2596, 'sae': 4043, 'cw': 1079, 'ppm': 3642, 'xmoneysymb': 5449, 'pw': 3770, 'emoneysymbnd': 1427, 'inde': 2311, 'dentist': 1168, 'neces': 3136, 'imagin': 2278, 'urself': 5096, 'witout': 5355, 'wth': 5429, 'cell': 745, 'function': 1812, 'event': 1499, 'esp': 1480, 'wrd': 5411, 'wthout': 5430, 'takecar': 4694, 'return': 3957, 'hungri': 2219, 'weirdo': 5272, 'resiz': 3938, 'bugi': 638, 'jokin': 2461, 'surf': 4635, 'plenti': 3569, 'water': 5236, 'trip': 4960, 'uni': 5050, 'modul': 3002, 'ju': 2478, 'yr': 5512, 'impress': 2294, 'shop': 4232, 'lost': 2745, 'fact': 1567, 'tee': 4734, 'feb': 1612, 'valu': 5122, 'evn': 1515, 'marri': 2861, 'evr': 1517, 'rpli': 4011, 'titl': 4865, 'eg': 1394, 'crazyin': 1018, 'sleepingwith': 4324, 'finest': 1658, 'ymca': 5499, 'pobox': 3582, 'wq': 5408, 'uniqu': 5054, 'user': 5102, 'remov': 3916, 'aaooooright': 3, 'newspap': 3172, 'pic': 3533, 'tcr': 4725, 'slap': 4319, 'ass': 291, 'dick': 1209, 'sayi': 4090, 'comin': 911, 'yoga': 5501, 'cours': 1001, 'pilat': 3540, 'aww': 349, 'nearli': 3135, 'dead': 1120, 'jez': 2442, 'iscom': 2378, 'todo': 4883, 'workand': 5389, 'whilltak': 5306, 'forev': 1729, 'greatest': 1977, 'courag': 1000, 'earth': 1367, 'bear': 424, 'defeat': 1143, 'gn': 1908, 'knock': 2560, 'noth': 3233, 'easi': 1368, 'risk': 3982, 'believ': 447, 'librari': 2663, 'taj': 4692, 'mahal': 2819, 'symbol': 4676, 'lesser': 2653, 'known': 2562, 'mumtaz': 3077, 'shahjahan': 4185, 'kill': 2542, 'husband': 2226, 'aris': 259, 'hari': 2057, 'ingredi': 2325, 'ten': 4750, 'rs': 4013, 'shelf': 4203, 'slp': 4338, 'swt': 4672, 'muah': 3066, 'chillin': 812, 'poop': 3608, 'laptop': 2603, 'gpu': 1955, 'yep': 5487, 'fireplac': 1665, 'icon': 2251, 'reward': 3963, 'subscrib': 4589, 'gbp': 1854, 'mnth': 2990, 'inc': 2297, 'txtstop': 5008, 'frm': 1784, 'unknown': 5060, 'mad': 2808, 'weekend': 5264, 'pple': 3641, 'excel': 1526, 'breakfast': 586, 'hamper': 2034, 'lovabl': 2755, 'wid': 5320, 'serious': 4165, 'coz': 1006, 'childish': 807, 'affect': 81, 'kettoda': 2529, 'manda': 2837, 'roommat': 4002, 'rest': 3946, 'delay': 1151, 'attent': 315, 'across': 44, 'sea': 4119, 'ic': 2245, 'meant': 2893, 'mari': 2855, 'jane': 2413, 'left': 2639, 'hmmm': 2144, 'rub': 4019, 'feet': 1621, 'urgent': 5088, 'kb': 2518, 'power': 3636, 'tahan': 4690, 'anot': 195, 'lo': 2710, 'complimentari': 932, 'ibiza': 2240, 'await': 343, 'cs': 1041, 'sk': 4304, 'wp': 5407, 'keypad': 2531, 'specif': 4442, 'expect': 1543, 'batteri': 406, 'hont': 2169, 'download': 1307, 'compliment': 931, 'system': 4681, 'side': 4264, 'chequ': 794, 'emailaddr': 1421, 'granit': 1965, 'issu': 2383, 'strong': 4568, 'explos': 1552, 'nasdaq': 3114, 'cdgt': 741, 'dresser': 1320, 'princ': 3687, 'charm': 773, 'fail': 1571, 'marrow': 2863, 'wed': 5256, 'aha': 102, 'chechi': 783, 'log': 2718, 'onto': 3329, 'surpris': 4639, 'renew': 3918, 'escal': 1476, 'philosophi': 3521, 'fool': 1720, 'cheat': 782, 'earli': 1363, 'spend': 4447, 'togeth': 4885, 'summer': 4610, 'celebr': 744, 'magic': 2817, 'sight': 4266, 'dress': 1319, 'white': 5308, 'oooooh': 3334, 'snow': 4367, 'iouri': 2366, 'wyli': 5440, 'ryan': 4037, 'consid': 956, 'mah': 2818, 'onluy': 3327, 'offcampu': 3287, 'wont': 5379, 'depend': 1170, 'howz': 2201, 'mailbox': 2823, 'alert': 128, 'retriev': 3956, 'walk': 5207, 'stagwood': 4494, 'winterston': 5341, 'victor': 5149, 'hate': 2064, 'eeri': 1391, 'dracula': 1311, 'ghost': 1883, 'addamsfa': 52, 'munster': 3078, 'exorcist': 1541, 'twilight': 4997, 'dr': 1310, 'appt': 238, 'listen': 2695, 'thinkin': 4811, 'area': 250, 'cncl': 874, 'stopc': 4543, 'darlin': 1104, 'supos': 4627, 'babysit': 363, 'chocol': 822, 'weed': 5262, 'alcohol': 126, 'london': 2727, 'smash': 4347, 'driver': 1326, 'dent': 1166, 'clarif': 844, 'deliv': 1155, 'wake': 5205, 'bishan': 494, 'lavend': 2619, 'crucial': 1037, 'noon': 3218, 'welcom': 5274, 'futur': 1821, 'mg': 2930, 'bill': 483, 'daili': 1090, 'cancel': 697, 'februari': 1613, 'oper': 3339, 'urgnt': 5090, 'loud': 2751, 'spontan': 4466, 'goodeven': 1929, 'cann': 700, 'asa': 278, 'upgrad': 5081, 'sim': 4276, 'loyalti': 2768, 'thfeb': 4805, 'build': 639, 'coat': 880, 'sick': 4263, 'wear': 5249, 'gym': 2016, 'rat': 3827, 'vote': 5187, 'theme': 4796, 'ew': 1521, 'signific': 4269, 'simpl': 4278, 'habba': 2020, 'ct': 1045, 'employe': 1429, 'anniversari': 191, 'tarpon': 4711, 'spring': 4475, 'took': 4908, 'tablet': 4684, 'reaction': 3843, 'orh': 3362, 'morphin': 3031, 'faster': 1594, 'si': 4259, 'wi': 5316, 'nz': 3269, 'unsold': 5070, 'sunday': 4614, 'choos': 824, 'fgkslpopw': 1633, 'fgkslpo': 1632, 'wml': 5365, 'ecef': 1380, 'ff': 1629, 'jul': 2482, 'rd': 3839, 'nd': 3130, 'spent': 4448, 'geva': 1881, 'bin': 486, 'mint': 2958, 'xxxx': 5457, 'kothi': 2572, 'print': 3689, 'marandratha': 2850, 'dislik': 1250, 'fan': 1584, 'ned': 3142, 'convinc': 971, 'possibl': 3624, 'witot': 5354, 'main': 2824, 'suck': 4596, 'hmm': 2143, 'hype': 2234, 'plaza': 3566, 'studio': 4576, 'taken': 4695, 'bedrm': 433, 'voucher': 5188, 'holder': 2154, 'pc': 3472, 'ts': 4973, 'carlo': 718, 'vibrat': 5148, 'hear': 2088, 'foreign': 1728, 'stamp': 4497, 'countri': 998, 'lectur': 2638, 'yeesh': 5480, 'fall': 1579, 'asleep': 289, 'middl': 2935, 'tabl': 4683, 'eight': 1399, 'cheer': 790, 'sian': 4260, 'lect': 2637, 'investig': 2361, 'frog': 1793, 'ericsson': 1467, 'cannot': 701, 'oredi': 3359, 'biggest': 481, 'cock': 885, 'hubbi': 2210, 'satisfi': 4079, 'string': 4564, 'action': 46, 'rec': 3861, 'ea': 1360, 'otbox': 3370, 'la': 2580, 'ws': 5425, 'lanr': 2602, 'fakey': 1576, 'eckankar': 1382, 'practis': 3651, 'curtsey': 1067, 'kote': 2571, 'matur': 2880, 'shirt': 4219, 'fite': 1671, 'budget': 633, 'abi': 9, 'mj': 2981, 'erm': 1468, 'contract': 966, 'octob': 3282, 'everybodi': 1503, 'nobodi': 3205, 'recognis': 3872, 'poor': 3609, 'zac': 5522, 'stand': 4498, 'made': 2810, 'hiya': 2138, 'naughti': 3125, 'cloth': 864, 'stopsm': 4545, 'pansi': 3423, 'jungl': 2488, 'inperson': 2331, 'flea': 1686, 'forum': 1744, 'jp': 2472, 'mofo': 3003, 'bonu': 537, 'caller': 682, 'decemb': 1130, 'vco': 5132, 'nvm': 3260, 'sport': 4469, 'non': 3214, 'elsewher': 1417, 'dizzamn': 1260, 'suitem': 4607, 'comingdown': 912, 'netflix': 3157, 'mix': 2980, 'verifi': 5141, 'usher': 5104, 'britney': 604, 'fml': 1708, 'mk': 2983, 'ppw': 3646, 'tunji': 4987, 'queen': 3784, 'avail': 332, 'hillsborough': 2129, 'costum': 990, 'deni': 1165, 'mina': 2947, 'expert': 1546, 'sri': 4484, 'india': 2313, 'somebodi': 4386, 'secretli': 4128, 'datebox': 1110, 'essexcm': 1485, 'xn': 5450, 'stuck': 4572, 'east': 1372, 'coast': 879, 'blue': 521, 'purpl': 3762, 'reali': 3848, 'pink': 3545, 'lyk': 2793, 'yelow': 5484, 'wnt': 5368, 'bck': 416, 'jealou': 2426, 'brown': 614, 'nw': 3262, 'color': 902, 'accentur': 26, 'adult': 70, 'shortli': 4240, 'innoc': 2329, 'clear': 852, 'round': 4004, 'birla': 489, 'soft': 4377, 'easier': 1369, 'jacket': 2403, 'squishi': 4482, 'mwah': 3090, 'drivin': 1327, 'hint': 2131, 'ron': 4000, 'shuhui': 4256, 'videophon': 5153, 'videochat': 5152, 'java': 2419, 'dload': 1263, 'polyph': 3601, 'music': 3082, 'nolin': 3213, 'rentl': 3921, 'yahoo': 5467, 'messeng': 2925, 'mode': 2999, 'sha': 4181, 'bmw': 525, 'shortag': 4237, 'sourc': 4423, 'arng': 264, 'amt': 175, 'lac': 2583, 'fri': 1777, 'pan': 3417, 'case': 726, 'cheap': 780, 'perhap': 3494, 'silli': 4274, 'cancer': 698, 'freak': 1759, 'wrong': 5422, 'kappa': 2508, 'sometext': 4392, 'bluetooth': 522, 'dvd': 1356, 'qf': 3775, 'instruct': 2342, 'road': 3987, 'within': 5352, 'whose': 5314, 'enter': 1449, 'weekli': 5265, 'stoptxtstopmoneysymb': 4548, 'sitter': 4298, 'kaitlyn': 2500, 'slept': 4326, 'asu': 301, 'ppl': 3640, 'randomli': 3822, 'reformat': 3889, 'lovli': 2763, 'reckon': 3871, 'eightish': 1401, 'carpark': 721, 'onlin': 3326, 'someday': 4387, 'meh': 2904, 'truth': 4972, 'graviti': 1972, 'light': 2673, 'heavi': 2095, 'lareadi': 2606, 'lf': 2658, 'eatin': 1377, 'earlier': 1364, 'soc': 4373, 'type': 5011, 'ar': 245, 'slice': 4327, 'pizza': 3552, 'jewelri': 2441, 'ach': 38, 'xxxxxx': 5459, 'responc': 3943, 'happend': 2047, 'mcr': 2890, 'ajith': 119, 'freefon': 1765, 'norm': 3225, 'woodland': 5382, 'avenu': 339, 'somewher': 4398, 'parish': 3439, 'magazin': 2815, 'telephon': 4739, 'lookin': 2735, 'tiim': 4853, 'hug': 2211, 'goe': 1916, 'lead': 2630, 'passion': 3452, 'nanni': 3111, 'april': 240, 'comput': 933, 'chastiti': 776, 'devic': 1194, 'grin': 1982, 'beat': 425, 'loung': 2752, 'individu': 2316, 'gong': 1926, 'kaypoh': 2517, 'honestli': 2164, 'cup': 1063, 'tea': 4726, 'promptli': 3723, 'burnt': 650, 'jetton': 2440, 'chapel': 766, 'frontiervil': 1797, 'em': 1419, 'omw': 3319, 'reliev': 3905, 'westonzoyland': 5289, 'surli': 4637, 'review': 3961, 'atlanta': 305, 'blake': 503, 'sh': 4180, 'eh': 1398, 'buffet': 636, 'diff': 1216, 'california': 677, 'hooch': 2171, 'toaday': 4878, 'fell': 1622, 'splat': 4460, 'graze': 1974, 'knee': 2557, 'forgiven': 1734, 'nimbomson': 3190, 'obvious': 3277, 'solihul': 4384, 'login': 2719, 'fetch': 1627, 'ge': 1856, 'noic': 3208, 'click': 856, 'list': 2694, 'costa': 988, 'del': 1150, 'sol': 4381, 'toclaim': 4881, 'stockport': 4535, 'xh': 5446, 'costmoneysymb': 989, 'max': 2881, 'yell': 5482, 'scrappi': 4107, 'lone': 2728, 'selfless': 4145, 'jaykwon': 2421, 'thuglyf': 4840, 'falconerf': 1578, 'ikea': 2268, 'cap': 705, 'among': 168, 'mess': 2923, 'bullshit': 643, 'less': 2652, 'ldn': 2627, 'mumha': 3075, 'beendrop': 435, 'theplac': 4800, 'adress': 66, 'fren': 1771, 'fujitsu': 1806, 'seri': 4163, 'lifebook': 2668, 'lingo': 2686, 'top': 4914, 'iam': 2237, 'passabl': 3451, 'high': 2125, 'score': 4103, 'phd': 3518, 'smell': 4349, 'tobacco': 4879, 'photoshop': 3528, 'shut': 4258, 'flight': 1690, 'europ': 1492, 'sept': 4161, 'ba': 357, 'nnfwfli': 3202, 'avatar': 335, 'imp': 2285, 'fli': 1689, 'hittng': 2137, 'reflex': 3888, 'lou': 2750, 'lancast': 2594, 'bak': 373, 'neway': 3166, 'hun': 2216, 'embarass': 1422, 'accomod': 33, 'cave': 736, 'inperialmus': 2330, 'weirdest': 5270, 'track': 4937, 'leafcutt': 2633, 'john': 2457, 'insect': 2333, 'molest': 3007, 'plumb': 3574, 'remix': 3915, 'evil': 1514, 'acid': 40, 'joy': 2471, 'lifei': 2669, 'daywith': 1116, 'somewheresomeon': 4399, 'tosend': 4922, 'confid': 946, 'derek': 1175, 'taylor': 4721, 'brolli': 609, 'english': 1443, 'franxx': 1756, 'silenc': 4272, 'mrng': 3050, 'hottest': 2190, 'straight': 4553, 'wet': 5291, 'textoper': 4774, 'lazi': 2623, 'station': 4510, 'perpetu': 3499, 'dd': 1118, 'student': 4573, 'discount': 1245, 'acknowledg': 41, 'astoundingli': 299, 'tactless': 4688, 'gener': 1863, 'faggi': 1569, 'demand': 1161, 'blood': 516, 'oath': 3271, 'fo': 1710, 'poo': 3605, 'noe': 3206, 'infra': 2322, 'bedroom': 434, 'sed': 4131, 'latr': 2615, 'cake': 672, 'mile': 2940, 'letter': 2656, 'nyt': 3267, 'tag': 4689, 'count': 996, 'thinl': 4813, 'audri': 323, 'lousi': 2753, 'autocorrect': 329, 'railway': 3806, 'throat': 4834, 'answer': 198, 'neck': 3140, 'postpon': 3628, 'congratul': 953, 'nation': 3120, 'rate': 3828, 'helloooo': 2108, 'morro': 3032, 'perumbavoor': 3505, 'dismay': 1251, 'miser': 2965, 'bomb': 534, 'weather': 5251, 'extra': 1556, 'vitamin': 5173, 'muz': 3088, 'lmao': 2708, 'nothin': 3234, 'hanger': 2041, 'printer': 3690, 'groovi': 1987, 'swollen': 4670, 'gland': 1899, 'mention': 2918, 'urgh': 5089, 'coach': 878, 'chip': 819, 'duvet': 1355, 'everyso': 1507, 'often': 3296, 'panick': 3421, 'bein': 446, 'slowli': 4337, 'vomit': 5185, 'aunti': 326, 'huai': 2209, 'juan': 2479, 'goal': 1913, 'club': 867, 'villa': 5160, 'yetund': 5493, 'moji': 3004, 'forgiv': 1733, 'promin': 3718, 'bite': 497, 'mark': 2857, 'cheek': 789, 'donno': 1290, 'gene': 1862, 'ive': 2394, 'revis': 3962, 'fran': 1755, 'boyf': 566, 'interviw': 2353, 'justthought': 2493, 'sayhey': 4089, 'doin': 1282, 'endof': 1435, 'offdam': 3288, 'nevamind': 3161, 'hook': 2173, 'sn': 4360, 'uwant': 5113, 'lovejen': 2757, 'copi': 978, 'lion': 2689, 'lionm': 2690, 'mono': 3018, 'lionp': 2691, 'origin': 3364, 'argh': 255, 'na': 3098, 'grr': 1992, 'prescript': 3669, 'pharmaci': 3516, 'flirt': 1694, 'gd': 1855, 'clean': 851, 'el': 1404, 'nino': 3193, 'esplanad': 1482, 'arun': 277, 'transfr': 4945, 'aiyo': 117, 'lover': 2759, 'clo': 859, 'lvblefrnd': 2792, 'jstfrnd': 2476, 'cutefrnd': 1074, 'lifpartnr': 2671, 'belovd': 454, 'swtheart': 4673, 'bstfrnd': 624, 'enemi': 1436, 'common': 916, 'china': 813, 'asia': 284, 'expens': 1544, 'luxuri': 2790, 'canari': 696, 'island': 2381, 'rush': 4032, 'nacho': 3100, 'eta': 1487, 'senor': 4152, 'error': 1471, 'catch': 733, 'monkey': 3016, 'certainli': 752, 'horniest': 2180, 'sex': 4173, 'entri': 1455, 'mmm': 2985, 'yummi': 5514, 'jolt': 2463, 'suzi': 4646, 'super': 4622, 'bowl': 563, 'okey': 3306, 'doke': 1283, 'lay': 2622, 'song': 4403, 'head': 2079, 'brah': 572, 'naal': 3099, 'eruku': 1472, 'wkli': 5362, 'comp': 918, 'fa': 1562, 'tkt': 4869, 'std': 4514, 'msn': 3058, 'ticket': 4846, 'walsal': 5214, 'tue': 4979, 'terri': 4759, 'fantasi': 1586, 'ntt': 3247, 'croydon': 1036, 'cr': 1009, 'wb': 5245, 'doll': 1285, 'patrick': 3460, 'swayz': 4656, 'fyi': 1825, 'sday': 4116, 'my': 3092, 'paper': 3428, 'polyphon': 3602, 'gpr': 1954, 'usc': 5100, 'portal': 3616, 'explain': 1549, 'wtc': 5427, 'weiyi': 5273, 'inning': 2328, 'transport': 4946, 'problemat': 3704, 'bday': 421, 'no': 3203, 'prey': 3683, 'devour': 1196, 'success': 4595, 'includ': 2301, 'axel': 352, 'akon': 122, 'weird': 5269, 'shitstorm': 4225, 'attribut': 318, 'waheeda': 5201, 'fathima': 1599, 'takin': 4696, 'linear': 2683, 'algebra': 132, 'relax': 3902, 'motiv': 3039, 'least': 2635, 'wudn': 5433, 'taunton': 4716, 'bec': 427, 'supervisor': 4625, 'access': 28, 'plu': 3572, 'cooki': 973, 'jelli': 2429, 'missin': 2969, 'guilti': 2009, 'fight': 1642, 'fightng': 1643, 'close': 861, 'dificult': 1220, 'warner': 5226, 'colin': 897, 'farrel': 1590, 'swat': 4653, 'wkend': 5359, 'med': 2896, 'popcorn': 3613, 'kiosk': 2550, 'soni': 4404, 'mre': 3049, 'flyng': 1706, 'horo': 2181, 'star': 4501, 'ari': 258, 'noooooooo': 3220, 'stress': 4558, 'fair': 1573, 'sing': 4286, 'seat': 4122, 'lower': 2765, 'ban': 381, 'adsens': 69, 'spoke': 4464, 'strongli': 4569, 'sacrific': 4041, 'creativ': 1023, 'stifl': 4530, 'wast': 5230, 'effect': 1392, 'brighten': 596, 'tel': 4738, 'doesnt': 1275, 'tm': 4871, 'constant': 959, 'support': 4630, 'srt': 4486, 'ps': 3738, 'usb': 5099, 'rp': 4009, 'grow': 1990, 'absolutli': 16, 'fr': 1754, 'explicit': 1550, 'bag': 369, 'goigng': 1917, 'except': 1527, 'perfum': 3493, 'whether': 5305, 'hav': 2068, 'ashwini': 283, 'learn': 2634, 'helplin': 2110, 'signal': 4268, 'seen': 4137, 'neither': 3151, 'unusu': 5075, 'snog': 4366, 'ttyl': 4978, 'poyyarikatur': 3637, 'kolathupalayam': 2565, 'unjalur': 5058, 'erod': 1469, 'beneath': 457, 'pale': 3415, 'moon': 3024, 'goodnit': 1935, 'storm': 4551, 'phne': 3522, 'wt': 5426, 'margaret': 2853, 'girlfrnd': 1892, 'grahmbel': 1959, 'invnt': 2363, 'telphon': 4744, 'attempt': 312, 'stone': 4538, 'tog': 4884, 'unless': 5061, 'gloriou': 1904, 'coax': 881, 'imag': 2277, 'fond': 1715, 'souveni': 4426, 'cougar': 992, 'pen': 3480, 'taxt': 4720, 'tie': 4847, 'lool': 2736, 'allday': 140, 'shame': 4190, 'blame': 504, 'recharg': 3869, 'suppli': 4628, 'cd': 740, 'worth': 5397, 'wallet': 5211, 'slave': 4320, 'waitin': 5204, 'applebe': 229, 'trek': 4956, 'tnc': 4876, 'ppmx': 3644, 'refus': 3892, 'loan': 2712, 'secur': 4130, 'unsecur': 5069, 'credit': 1024, 'garden': 1842, 'bulb': 641, 'seed': 4133, 'scotsman': 4106, 'saturday': 4082, 'velli': 5138, 'ami': 161, 'ure': 5087, 'cmon': 872, 'horni': 2179, 'turn': 4989, 'sticki': 4529, 'feelin': 1618, 'kinda': 2545, 'lnli': 2709, 'cam': 688, 'mobi': 2994, 'rcv': 3837, 'hlp': 2140, 'senthil': 4159, 'group': 1989, 'apnt': 218, 'sleepwel': 4325, 'geeeee': 1859, 'wherr': 5304, 'lux': 2789, 'jame': 2409, 'rr': 4012, 'alex': 130, 'nichol': 3179, 'broke': 607, 'abta': 19, 'lingeri': 2685, 'superb': 4623, 'brought': 613, 'weddingfriend': 5258, 'swatch': 4654, 'opinion': 3340, 'infact': 2318, 'savamob': 4085, 'uz': 5115, 'sub': 4585, 'punto': 3757, 'watev': 5238, 'relat': 3901, 'built': 640, 'remain': 3909, 'atlast': 306, 'iz': 2398, 'lonlin': 2732, 'lotz': 2749, 'memori': 2915, 'ahhhh': 104, 'woken': 5373, 'comedi': 908, 'isnt': 2382, 'gsoh': 1996, 'spam': 4433, 'male': 2831, 'gigolo': 1887, 'fastest': 1595, 'oncal': 3321, 'mjzgroup': 2982, 'rcvd': 3838, 'winner': 5339, 'anyon': 206, 'centr': 747, 'buyer': 660, 'delet': 1152, 'old': 3314, 'blog': 513, 'tank': 4705, 'nap': 3112, 'piec': 3538, 'complementari': 928, 'hol': 2151, 'tessi': 4764, 'favor': 1604, 'shija': 4212, 'xchat': 5443, 'possess': 3623, 'offens': 3289, 'drunk': 1334, 'motherfuck': 3038, 'fake': 1575, 'reffer': 3885, 'link': 2687, 'geti': 1878, 'acc': 24, 'prasanth': 3655, 'ettan': 1489, 'pray': 3656, 'king': 2547, 'imprtant': 2296, 'tomorw': 4900, 'footbal': 1722, 'gamestar': 1835, 'activ': 47, 'team': 4729, 'freez': 1770, 'an': 177, 'wednesday': 5260, 'miwa': 2979, 'jiayin': 2446, 'karaok': 2509, 'discuss': 1247, 'uhhhhrmm': 5020, 'tb': 4723, 'your': 5506, 'receipt': 3863, 'mr': 3048, 'foley': 1712, 'version': 5142, 'japanes': 2417, 'proverb': 3734, 'none': 3216, 'indian': 2314, 'kerala': 2526, 'strike': 4563, 'report': 3927, 'rupaul': 4031, 'tool': 4909, 'bird': 488, 'antelop': 199, 'toplay': 4916, 'fieldof': 1636, 'selfindepend': 4143, 'flower': 1701, 'minu': 2959, 'paragraph': 3433, 'uniform': 5052, 'sen': 4149, 'financ': 1654, 'cbe': 738, 'breez': 589, 'bright': 595, 'fresh': 1774, 'twitter': 5000, 'sigh': 4265, 'cafe': 670, 'jd': 2425, 'execut': 1532, 'transact': 4943, 'askin': 288, 'salon': 4058, 'sens': 4154, 'blackberri': 500, 'torch': 4919, 'bb': 410, 'pee': 3476, 'burn': 649, 'oz': 3403, 'aathi': 4, 'ree': 3881, 'pod': 3587, 'creep': 1025, 'mysteri': 3097, 'solv': 4385, 'batch': 402, 'sweeti': 4663, 'bother': 556, 'theori': 4799, 'argu': 256, 'correct': 982, 'inclus': 2302, 'qxj': 3796, 'ae': 76, 'skateboard': 4305, 'despit': 1186, 'thrown': 4837, 'bandag': 383, 'five': 1672, 'minor': 2957, 'crisi': 1031, 'asap': 279, 'cinema': 837, 'suprman': 4632, 'matrix': 2877, 'starwar': 4507, 'bx': 665, 'ip': 2367, 'troubl': 4964, 'appeal': 224, 'tomo': 4897, 'thriller': 4833, 'director': 1235, 'ish': 2379, 'rct': 3836, 'thnq': 4821, 'adrian': 67, 'rgd': 3965, 'vatian': 5130, 'evict': 1513, 'spiral': 4453, 'michael': 2933, 'riddanc': 3970, 'upcharg': 5077, 'ha': 2019, 'seeker': 4135, 'rv': 4033, 'rvx': 4034, 'snowman': 4370, 'angel': 184, 'snowbal': 4368, 'prin': 3686, 'srsli': 4485, 'yi': 5495, 'shade': 4182, 'kidz': 2541, 'colleagu': 899, 'sofa': 4376, 'nake': 3105, 'wesley': 5285, 'lord': 2741, 'lotr': 2747, 'june': 2487, 'soundtrack': 4421, 'stdtxtrate': 4515, 'arestaur': 252, 'squid': 4481, 'dosometh': 1298, 'xclusiv': 5444, 'clubsaisai': 868, 'morow': 3030, 'soire': 4380, 'zouk': 5532, 'cozi': 1007, 'jazz': 2423, 'yogasana': 5502, 'ninish': 3192, 'icki': 2249, 'freek': 1766, 'callin': 685, 'jen': 2430, 'ideal': 2254, 'path': 3457, 'appear': 225, 'low': 2764, 'maintain': 2825, 'pari': 3438, 'hotel': 2188, 'evey': 1512, 'worst': 5396, 'westlif': 5288, 'tour': 4931, 'unbreak': 5032, 'untam': 5074, 'unkempt': 5059, 'ummmmmaah': 5028, 'stash': 4508, 'strict': 4562, 'teach': 4727, 'conduct': 943, 'simpson': 4281, 'releas': 3903, 'juli': 2483, 'band': 382, 'height': 2101, 'aeronaut': 77, 'professor': 3711, 'wer': 5283, 'calld': 681, 'askd': 287, 'aeroplan': 78, 'aftr': 93, 'plane': 3558, 'datz': 1111, 'lie': 2666, 'twice': 4995, 'father': 1598, '____': 0, 'ti': 4844, 'ia': 2236, 'gent': 1864, 'waaaat': 5195, 'lololo': 2725, 'affidavit': 83, 'twigg': 4996, 'divis': 1257, 'courtroom': 1003, 'lodg': 2717, 'rhythm': 3968, 'establish': 1486, 'silent': 4273, 'tens': 4754, 'maangalyam': 2797, 'alaipayuth': 124, 'callertun': 683, 'cochin': 884, 'bfore': 472, 'engag': 1439, 'finalis': 1653, 'occur': 3280, 'multi': 3071, 'musta': 3085, 'overdid': 3392, 'mon': 3010, 'cruisin': 1039, 'jenni': 2432, 'happenin': 2048, 'ola': 3310, 'thout': 4828, 'upd': 5078, 'stoptx': 4546, 'tf': 4776, 'flippin': 1693, 'quiet': 3789, 'beth': 464, 'charli': 772, 'helen': 2103, 'mo': 2991, 'increas': 2307, 'matthew': 2879, 'disappear': 1240, 'mostli': 3036, 'footbl': 1723, 'crckt': 1019, 'spice': 4449, 'limit': 2681, 'ho': 2148, 'topic': 4915, 'coulda': 995, 'dearli': 1125, 'olowoyey': 3317, 'argentina': 254, 'secretari': 4127, 'ac': 22, 'blind': 511, 'rodd': 3992, 'aberdeen': 8, 'unit': 5055, 'kingdom': 2548, 'icmb': 2250, 'cktz': 841, 'hide': 2124, 'hmv': 2147, 'genuin': 1869, 'www': 5438, 'percent': 3488, 'nh': 3174, 'mistak': 2975, 'yor': 5503, 'local': 2714, 'inconveni': 2305, 'ym': 5498, 'smart': 4344, 'coffe': 889, 'incomm': 2303, 'tast': 4712, 'fish': 1668, 'curri': 1066, 'grumpi': 1994, 'jabo': 2401, 'duck': 1342, 'chinchilla': 814, 'sooooo': 4411, 'pour': 3634, 'becoz': 430, 'prospect': 3731, 'south': 4424, 'tampa': 4704, 'prefer': 3659, 'kegger': 2521, 'wifi': 5323, 'waqt': 5222, 'se': 4118, 'pehl': 3478, 'naseeb': 3115, 'zyada': 5534, 'kisi': 2552, 'ko': 2564, 'kuch': 2575, 'nahi': 3104, 'milta': 2945, 'zindgi': 5530, 'wo': 5369, 'jo': 2450, 'hum': 2215, 'socht': 4374, 'hai': 2024, 'ham': 2033, 'jeetey': 2428, 'tripl': 4961, 'echo': 1381, 'passport': 3453, 'headset': 2082, 'adp': 65, 'malaria': 2829, 'children': 809, 'handl': 2037, 'gastroenter': 1845, 'replac': 3925, 'loss': 2744, 'temp': 4747, 'reduc': 3880, 'self': 4142, 'moro': 3029, 'walmart': 5213, 'mous': 3043, 'desk': 1183, 'priscilla': 3693, 'pshew': 3739, 'challeng': 758, 'speedchat': 4445, 'swap': 4651, 'chatter': 779, 'rcd': 3835, 'monoc': 3019, 'polyc': 3599, 'stream': 4556, 'clearli': 854, 'teeth': 4736, 'shoul': 4242, 'chg': 799, 'sarcast': 4071, 'zed': 5526, 'lil': 2678, 'fever': 1628, 'textand': 4769, 'quot': 3795, 'jerri': 2435, 'cartoon': 725, 'express': 1554, 'wee': 5261, 'missi': 2968, 'cream': 1021, 'hor': 2178, 'ubi': 5016, 'cre': 1020, 'tech': 4732, 'ph': 3515, 'èn': 5535, 'remb': 3910, 'ahmad': 105, 'saeed': 4044, 'al': 123, 'hallaq': 2031, 'opportun': 3343, 'mt': 3059, 'pete': 3510, 'sdryb': 4117, 'gautham': 1847, 'awesom': 347, 'cute': 1073, 'luck': 2778, 'realis': 3849, 'outta': 3389, 'transfer': 4944, 'ja': 2400, 'misundrstud': 2976, 'loyal': 2767, 'dokey': 1284, 'lobbi': 2713, 'maneesha': 2841, 'toll': 4892, 'gokila': 1919, 'bookedth': 541, 'hut': 2229, 'provid': 3735, 'street': 4557, 'edukkukaye': 1387, 'raksha': 3815, 'drastic': 1315, 'dare': 1100, 'tirunelvali': 4862, 'amount': 171, 'mm': 2984, 'kanji': 2506, 'past': 3455, 'spoken': 4465, 'midnight': 2936, 'santa': 4066, 'septemb': 4162, 'result': 3952, 'histori': 2134, 'comfort': 910, 'sold': 4383, 'onion': 3325, 'petrol': 3513, 'beer': 436, 'shesil': 4207, 'quiz': 3792, 'faith': 1574, 'ouch': 3375, 'clock': 860, 'wahay': 5199, 'okday': 3305, 'rayan': 3833, 'macleran': 2807, 'random': 3821, 'saibaba': 4048, 'colani': 895, 'toyota': 4934, 'camri': 693, 'olayiwola': 3313, 'mileag': 2941, 'rais': 3808, 'dough': 1305, 'sparkl': 4437, 'haunt': 2067, 'promot': 3721, 'hex': 2118, 'punish': 3755, 'gf': 1882, 'screwd': 4111, 'machan': 2802, 'exe': 1531, 'welp': 5277, 'appar': 223, 'retir': 3955, 'clever': 855, 'will': 5329, 'leona': 2650, 'attach': 310, 'dial': 1204, 'browser': 617, 'fixd': 1674, 'shock': 4228, 'njan': 3200, 'vilikkam': 5159, 'sudn': 4598, 'disagre': 1239, 'spl': 4457, 'whr': 5315, 'ru': 4018, 'salam': 4052, 'grace': 1958, 'tayseer': 4722, 'tissco': 4864, 'allah': 138, 'milk': 2942, 'loos': 2739, 'stair': 4495, 'phew': 3519, 'appi': 227, 'fizz': 1676, 'contain': 962, 'combin': 906, 'bff': 471, 'carli': 716, 'vega': 5134, 'owl': 3397, 'lick': 2664, 'imin': 2281, 'urgoin': 5091, 'outl': 3383, 'reallyne': 3853, 'dontpleas': 1293, 'dontignor': 1292, 'mycal': 3093, 'thecd': 4793, 'tome': 4895, 'headin': 2081, 'busetop': 653, 'rajini': 3812, 'august': 324, 'chart': 774, 'hero': 2116, 'wap': 5221, 'tip': 4859, 'db': 1117, 'found': 1746, 'enc': 1432, 'daaaaa': 1084, 'decis': 1133, 'aiyar': 116, 'scold': 4101, 'mission': 2970, 'toshiba': 4923, 'porteg': 3617, 'forfeit': 1731, 'ringtonek': 3979, 'shijutta': 4213, 'gain': 1830, 'hang': 2040, 'sunni': 4616, 'ray': 3832, 'bay': 409, 'ijust': 2267, 'dictionari': 1210, 'screen': 4110, 'gentli': 1867, 'natwest': 3124, 'tuesday': 4980, 'stressful': 4559, 'icic': 2248, 'bridg': 593, 'lager': 2589, 'dhoni': 1201, 'whenev': 5300, 'taxi': 4718, 'ing': 2324, 'surgic': 4636, 'emerg': 1424, 'unfold': 5047, 'wild': 5326, 'disconnect': 1244, 'cstore': 1044, 'fortun': 1743, 'miracl': 2961, 'nosi': 3230, 'idk': 2258, 'react': 3842, 'iknow': 2270, 'wellda': 5276, 'peril': 3495, 'studentfinanci': 4574, 'spk': 4456, 'technic': 4733, 'advanc': 71, 'pongal': 3603, 'sapna': 4067, 'maneg': 2842, 'hogidh': 2150, 'chinnu': 817, 'weak': 5247, 'swalpa': 4649, 'agidhan': 98, 'phase': 3517, 'fourth': 1749, 'dimens': 1223, 'hundr': 2217, 'handsom': 2039, 'handset': 2038, 'femal': 1624, 'cast': 729, 'vari': 5125, 'aom': 214, 'er': 1465, 'accordin': 34, 'attend': 314, 'prevent': 3680, 'dehydr': 1149, 'fluid': 1702, 'who': 5310, 'maid': 2821, 'januari': 2415, 'public': 3749, 'birth': 491, 'control': 967, 'massiv': 2867, 'gut': 2012, 'cramp': 1013, 'thgt': 4806, 'clash': 847, 'wendi': 5279, 'grumbl': 1993, 'bruv': 620, 'virtual': 5168, 'xam': 5441, 'hall': 2030, 'hesit': 2117, 'intha': 2354, 'ponnungal': 3604, 'ipaditan': 2369, 'freeentri': 1764, 'xt': 5452, 'stuf': 4578, 'bleh': 508, 'writh': 5416, 'spiritu': 4455, 'bottl': 557, 'amus': 176, 'sculptur': 4114, 'tau': 4715, 'sar': 4068, 'piah': 3532, 'hep': 2115, 'immunis': 2284, 'lookatm': 2734, 'purchas': 3760, 'clip': 858, 'mmsto': 2989, 'langport': 2600, 'dirti': 1237, 'anal': 179, 'gang': 1838, 'bang': 384, 'suppos': 4631, 'jean': 2427, 'iphon': 2370, 'unconvinc': 5037, 'elabor': 1406, 'willpow': 5330, 'dawn': 1113, 'refresh': 3890, 'aliv': 136, 'air': 111, 'flake': 1679, 'salesman': 4055, 'dump': 1348, 'heap': 2087, 'behav': 444, 'templ': 4749, 'church': 835, 'wetherspoon': 5292, 'missionari': 2971, 'doggi': 1279, 'drivbi': 1324, 'edrunk': 1385, 'iff': 2262, 'pthi': 3747, 'senrd': 4153, 'dnot': 1264, 'dancc': 1095, 'drum': 1333, 'basq': 400, 'ihav': 2266, 'nhite': 3175, 'ro': 3986, 'xxxxxxx': 5460, 'tariff': 4709, 'hf': 2120, 'shake': 4187, 'booti': 546, 'danc': 1094, 'floor': 1697, 'bcm': 417, 'wc': 5246, 'jada': 2405, 'kusruthi': 2577, 'stylish': 4583, 'panic': 3420, 'surrend': 4640, 'blanket': 506, 'suffici': 4600, 'thx': 4843, 'hellogorg': 2107, 'lst': 2772, 'nitw': 3198, 'texd': 4767, 'hopeu': 2177, 'ward': 5223, 'jaz': 2422, 'tsc': 4975, 'skillgam': 4308, 'winaweek': 5332, 'ppermesssubscript': 3639, 'consist': 957, 'practicum': 3650, 'ear': 1362, 'teju': 4737, 'filthi': 1650, 'lul': 2783, 'gettin': 1880, 'juici': 2481, 'gossip': 1943, 'nurs': 3256, 'she': 4201, 'obes': 3273, 'oyea': 3401, 'shore': 4235, 'recycl': 3877, 'recept': 3867, 'deu': 1192, 'ex': 1522, 'apologis': 221, 'cali': 675, 'bloke': 514, 'weddin': 5257, 'dogbreath': 1277, 'jan': 2411, 'host': 2184, 'base': 397, 'idp': 2259, 'linux': 2688, 'kalainar': 2501, 'sppok': 4472, 'halloween': 2032, 'logo': 2720, 'spook': 4467, 'needi': 3144, 'pout': 3635, 'stomp': 4537, 'bbd': 412, 'pooja': 3606, 'sweatter': 4659, 'mouth': 3044, 'stereo': 4522, 'mi': 2931, 'album': 125, 'mountain': 3042, 'deer': 1140, 'cme': 871, 'nightnight': 3188, 'chicken': 802, 'broth': 610, 'ramen': 3818, 'faglord': 1570, 'onam': 3320, 'sirji': 4293, 'met': 2927, 'insur': 2343, 'qatar': 3772, 'insha': 2334, 'tata': 4714, 'aig': 108, 'cha': 755, 'quiteamuz': 3791, 'scool': 4102, 'probpop': 3707, 'cu': 1054, 'satthen': 4081, 'hunni': 2221, 'brekki': 591, 'psxtra': 3741, 'lrg': 2770, 'portion': 3618, 'alrit': 149, 'idiot': 2257, 'girli': 1893, 'clarifi': 845, 'prepon': 3666, 'fring': 1783, 'app': 222, 'potenti': 3630, 'talent': 4697, 'unlik': 5062, 'patient': 3459, 'turkey': 4988, 'complain': 926, 'bettr': 466, 'bsnl': 623, 'offc': 3286, 'ador': 64, 'shun': 4257, 'bian': 476, 'glass': 1901, 'exhibit': 1536, 'aldrin': 127, 'rakhesh': 3814, 'rtm': 4016, 'intent': 2346, 'visitor': 5171, 'bro': 605, 'gua': 1999, 'faber': 1564, 'leo': 2649, 'gimm': 1888, 'rhode': 3967, 'wherev': 5303, 'bong': 536, 'ditto': 1256, 'peac': 3475, 'squeeeeez': 4479, 'lik': 2676, 'frndshp': 1788, 'luvd': 2788, 'trend': 4957, 'pro': 3700, 'con': 936, 'brief': 594, 'descript': 1178, 'nuclear': 3250, 'fusion': 1820, 'iter': 2387, 'jet': 2439, 'importantli': 2290, 'tonex': 4903, 'avalarr': 334, 'hollalat': 2158, 'wud': 5432, 'annoyin': 194, 'display': 1252, 'intern': 2350, 'extract': 1557, 'inshah': 2335, 'subpoli': 4588, 'ranjith': 3825, 'cal': 673, 'drpd': 1330, 'deeraj': 1141, 'deepak': 1139, 'ilol': 2275, 'wuldnt': 5435, 'mite': 2977, 'north': 3227, 'carolina': 720, 'texa': 4766, 'gre': 1975, 'dx': 1358, 'gandhipuram': 1836, 'woo': 5380, 'hoo': 2170, 'flip': 1692, 'mokka': 3006, 'survey': 4642, 'rob': 3989, 'mack': 2806, 'theater': 4791, 'jog': 2456, 'marriag': 2862, 'epsilon': 1463, 'morrow': 3033, 'requir': 3932, 'complex': 930, 'freeli': 1767, 'tax': 4717, 'outrag': 3384, 'perf': 3490, 'legal': 2642, 'yay': 5475, 'belong': 452, 'fate': 1597, 'shoranur': 4234, 'incid': 2299, 'fuell': 1805, 'concern': 939, 'prior': 3691, 'grief': 1981, 'chain': 757, 'violenc': 5163, 'women': 5375, 'chad': 756, 'gymnast': 2017, 'christian': 831, 'sup': 4621, 'newquay': 3169, 'postcard': 3626, 'talkin': 4700, 'rout': 4006, 'deduct': 1137, 'cuti': 1076, 'wale': 5206, 'avent': 338, 'mag': 2813, 'avo': 341, 'vava': 5131, 'ooooooh': 3335, 'yovil': 5510, 'ax': 351, 'temal': 4746, 'but': 656, 'freedom': 1763, 'vs': 5191, 'diwali': 1259, 'instead': 2341, 'patti': 3462, 'haul': 2066, 'deltomorrow': 1158, 'caught': 734, 'muchand': 3068, 'venugop': 5140, 'playin': 3564, 'poker': 3592, 'explicitli': 1551, 'nora': 3222, 'divorc': 1258, 'barbi': 391, 'ken': 2523, 'tote': 4927, 'jesu': 2438, 'ahead': 103, 'checkmat': 787, 'chess': 796, 'persian': 3501, 'phrase': 3530, 'shah': 4184, 'maat': 2798, 'euro': 1490, 'kickoff': 2539, 'nearer': 3134, 'enufcredeit': 1457, 'ileav': 2272, 'wrongli': 5423, 'gentleman': 1866, 'digniti': 1222, 'respect': 3942, 'port': 3615, 'fink': 1661, 'minmobsmor': 2953, 'lkpobox': 2705, 'hp': 2202, 'fl': 1677, 'african': 88, 'soil': 4379, 'bottom': 558, 'adewal': 56, 'aka': 121, 'egbon': 1395, 'receivea': 3865, 'kl': 2556, 'whn': 5309, 'ofic': 3294, 'duffer': 1345, 'voda': 5178, 'standard': 4499, 'note': 3231, 'terrorist': 4762, 'itz': 2392, 'confirmd': 949, 'cnn': 876, 'ibn': 2242, 'samantha': 4062, 'guitar': 2010, 'doug': 1304, 'mw': 3089, 'tuth': 4990, 'out': 3377, 'northampton': 3228, 'afraid': 86, 'skyve': 4316, 'gram': 1960, 'eighth': 1400, 'smarter': 4346, 'curiou': 1064, 'hrishi': 2205, 'bahama': 370, 'callfreefon': 684, 'cruis': 1038, 'ofmoneysymb': 3295, 'lara': 2605, 'sale': 4054, 'diddi': 1211, 'neighbor': 3150, 'toothpast': 4912, 'wtf': 5428, 'radio': 3801, 'connect': 954, 'coincid': 893, 'unsub': 5072, 'elama': 1407, 'mudyadhu': 3069, 'favorit': 1605, 'oyster': 3402, 'sashimi': 4074, 'rumbl': 4027, 'tantrum': 4706, 'zoe': 5531, 'sam': 4060, 'thirtyeight': 4814, 'penc': 3481, 'panren': 3422, 'paru': 3448, 'yeh': 5481, 'def': 1142, 'havbeen': 2070, 'amoneysymb': 166, 'rise': 3981, 'havebeen': 2071, 'preschoolco': 3667, 'ordin': 3357, 'feelingood': 1619, 'gurl': 2011, 'appropri': 235, 'vip': 5165, 'blu': 520, 'concert': 940, 'novemb': 3241, 'woah': 5370, 'burger': 646, 'footi': 1724, 'stadium': 4491, 'larg': 2607, 'coca': 882, 'cola': 894, 'misbehav': 2963, 'fault': 1601, 'italian': 2384, 'cosign': 986, 'raglan': 3803, 'edward': 1388, 'behind': 445, 'cricket': 1029, 'ground': 1988, 'closebi': 862, 'paint': 3413, 'wall': 5210, 'favourit': 1607, 'discreet': 1246, 'fffff': 1630, 'kadeem': 2498, 'fundament': 1814, 'whoever': 5311, 'agent': 97, 'goodi': 1931, 'mat': 2870, 'calicut': 676, 'baaaaaaaab': 358, 'thasa': 4787, 'shudvetold': 4255, 'urgran': 5092, 'illspeak': 2274, 'mmmm': 2986, 'golden': 1921, 'truli': 4970, 'prescrib': 3668, 'upload': 5082, 'iron': 2375, 'rightio': 3973, 'arent': 251, 'howda': 2197, 'en': 1431, 'samachara': 4061, 'bognor': 531, 'splendid': 4461, 'fondli': 1716, 'thot': 4824, 'hcl': 2078, 'fresher': 1775, 'interview': 2352, 'weightloss': 5268, 'ebay': 1378, 'wright': 5414, 'airport': 112, 'cloud': 865, 'river': 3985, 'apolog': 220, 'admit': 63, 'folk': 1713, 'closer': 863, 'belli': 450, 'loverboy': 2760, 'kilo': 2543, 'nuerologist': 3252, 'drinkin': 1323, 'dancin': 1096, 'spirit': 4454, 'dobbi': 1267, 'envelop': 1459, 'bray': 579, 'wicklow': 5319, 'eir': 1402, 'watt': 5241, 'gyno': 2018, 'gsex': 1995, 'labor': 2582, 'shakara': 4186, 'beggar': 440, 'optimist': 3348, 'improv': 2295, 'sake': 4050, 'tallahasse': 4702, 'rayman': 3834, 'golf': 1922, 'arcad': 248, 'termsappli': 4758, 'versu': 5143, 'foot': 1721, 'stretch': 4560, 'joanna': 2451, 'myspac': 3096, 'spree': 4474, 'skilgm': 4306, 'winawk': 5333, 'perweeksub': 3506, 'gek': 1860, 'ne': 3132, 'wrking': 5419, 'kate': 2512, 'buz': 661, 'wedlunch': 5259, 'outsomewher': 3387, 'adrink': 68, 'cud': 1056, 'watershd': 5237, 'fromwrk': 1795, 'bthere': 626, 'petexxx': 3511, 'nowaday': 3242, 'showroom': 4248, 'citi': 838, 'shape': 4196, 'visa': 5169, 'gucci': 2001, 'sipix': 4291, 'fromm': 1794, 'pattern': 3461, 'fiend': 1637, 'imped': 2287, 'record': 3873, 'indic': 2315, 'compens': 923, 'accid': 29, 'banneduk': 388, 'eva': 1493, 'reciev': 3870, 'condit': 942, 'channel': 764, 'teletext': 4740, 'pg': 3514, 'sever': 4172, 'plough': 3571, 'pile': 3541, 'chinki': 816, 'yan': 5469, 'jiu': 2448, 'cine': 836, 'blah': 502, 'vomitin': 5186, 'avoid': 342, 'awkward': 348, 'flaki': 1680, 'hop': 2175, 'jason': 2418, 'lido': 2665, 'paragon': 3432, 'amaz': 158, 'gona': 1924, 'buse': 652, 'gon': 1923, 'doubt': 1303, 'whatsup': 5296, 'chop': 825, 'maga': 2814, 'attitud': 316, 'awww': 350, 'hip': 2132, 'txtauction': 5004, 'ctxt': 1053, 'mtmsg': 3062, 'format': 1740, 'beerag': 437, 'exact': 1523, 'jerk': 2434, 'wr': 5409, 'fuckin': 1802, 'shorter': 4239, 'gaze': 1852, 'cp': 1008, 'conserv': 955, 'mandan': 2838, 'multipli': 3072, 'independ': 2312, 'push': 3764, 'nighter': 3187, 'persev': 3500, 'slaaaaav': 4317, 'summon': 4611, 'beyond': 469, 'biro': 490, 'porn': 3614, 'vat': 5129, 'newest': 3167, 'harri': 2059, 'potter': 3631, 'phoenix': 3523, 'reader': 3845, 'apo': 219, 'dumb': 1347, 'paperwork': 3429, 'nervou': 3153, 'gb': 1853, 'ibhltd': 2239, 'ldnw': 2628, 'maggi': 2816, 'mee': 2899, 'thin': 4808, 'fed': 1614, 'himso': 2130, 'occas': 3278, 'reflect': 3887, 'desir': 1182, 'tradit': 4938, 'rdi': 3840, 'ship': 4218, 'felt': 1623, 'inconsider': 2304, 'nag': 3101, 'recess': 3868, 'henc': 2113, 'jordan': 2467, 'celeb': 743, 'rubber': 4020, 'showr': 4247, 'weigh': 5266, 'baaaaab': 359, 'misss': 2972, 'youuuuu': 5509, 'configur': 947, 'twelv': 4993, 'grown': 1991, 'shrek': 4250, 'chloe': 821, 'sp': 4428, 'enjoyin': 1445, 'yourjob': 5508, 'llspeak': 2707, 'soonlot': 4408, 'lovem': 2758, 'gibb': 1884, 'hussey': 2227, 'purpos': 3763, 'homeown': 2160, 'tenant': 4751, 'previous': 3682, 'shitload': 4224, 'instant': 2339, 'oreo': 3360, 'truffl': 4969, 'minecraft': 2950, 'server': 4167, 'grandma': 1964, 'hungov': 2218, 'toppoli': 4917, 'tune': 4986, 'pole': 3594, 'genu': 1868, 'propos': 3729, 'bloodi': 517, 'funki': 1817, 'asssssholeee': 296, 'west': 5286, 'palm': 3416, 'cat': 732, 'africa': 87, 'avin': 340, 'size': 4303, 'eleph': 1412, 'um': 5025, 'mini': 2951, 'cheeto': 791, 'phonebook': 3525, 'regular': 3898, 'checkup': 788, 'pap': 3426, 'smear': 4348, 'salad': 4051, 'desert': 1179, 'wrkin': 5418, 'anim': 186, 'buzz': 663, 'pt': 3745, 'stopbcm': 4542, 'sf': 4179, 'withdraw': 5350, 'anyhow': 204, 'kickbox': 2538, 'premier': 3661, 'waxsto': 5243, 'guid': 2007, 'tension': 4755, 'machi': 2803, 'bawl': 408, 'failur': 1572, 'fudg': 1804, 'rounder': 4005, 'sensibl': 4155, 'symptom': 4678, 'belov': 453, 'occupi': 3279, 'tree': 4955, 'ibuprofen': 2244, 'beach': 422, 'amongst': 169, 'aptitud': 243, 'mapquest': 2848, 'dogwood': 1281, 'tini': 4858, 'nauseou': 3126, 'yck': 5476, 'mega': 2903, 'pixel': 3551, 'optic': 3347, 'doom': 1294, 'journey': 2470, 'yifeng': 5496, 'wondar': 5376, 'flim': 1691, 'reject': 3899, 'fart': 1591, 'plm': 3570, 'aid': 107, 'patent': 3456, 'field': 1635, 'optin': 3349, 'bbc': 411, 'chosen': 828, 'suffer': 4599, 'dysentri': 1359, 'msgrcvdhg': 3057, 'bf': 470, 'eurodisinc': 1491, 'trav': 4948, 'aco': 43, 'morefrmmob': 3026, 'shracomorsglsuplt': 4249, 'ls': 2771, 'aj': 118, 'rahul': 3804, 'dengra': 1164, 'refil': 3886, 'inr': 2332, 'keralacircl': 2527, 'prepaid': 3663, 'kr': 2573, 'anni': 190, 'reg': 3893, 'pract': 3648, 'flung': 1703, 'bar': 390, 'twat': 4992, 'dungere': 1350, 'deck': 1134, 'punch': 3754, 'tamilnadu': 4703, 'toledo': 4890, 'agre': 100, 'ipad': 2368, 'macho': 2805, 'haiyoh': 2028, 'hamster': 2035, 'million': 2944, 'creepi': 1026, 'fp': 1753, 'tgxxrz': 4778, 'jon': 2464, 'spain': 4432, 'dinero': 1226, 'pe': 3474, 'perwksub': 3507, 'balloon': 378, 'qp': 3779, 'poorli': 3610, 'brb': 580, 'shortcod': 4238, 'tomorro': 4898, 'uworld': 5114, 'qbank': 3773, 'assess': 292, 'stare': 4502, 'ruin': 4024, 'wamma': 5215, 'doggin': 1280, 'lp': 2769, 'thur': 4841, 'pre': 3657, 'sack': 4040, 'custcar': 1069, 'amk': 163, 'dock': 1269, 'boat': 527, 'roll': 3996, 'newscast': 3171, 'dabbl': 1085, 'flute': 1705, 'wheel': 5298, 'foward': 1750, 'section': 4129, 'clearer': 853, 'sweater': 4658, 'mango': 2843, 'coccoon': 883, 'danger': 1099, 'peep': 3477, 'comment': 913, 'gmw': 1907, 'tg': 4777, 'uve': 5112, 'wildest': 5327, 'randi': 3820, 'netcollex': 3156, 'bristol': 602, 'le': 2629, 'rudi': 4022, 'ink': 2327, 'stripe': 4566, 'skirt': 4312, 'unredeem': 5068, 'heat': 2092, 'ppmpobox': 3643, 'bhamb': 474, 'xe': 5445, 'eastend': 1373, 'dot': 1299, 'compar': 921, 'violet': 5164, 'tulip': 4984, 'lili': 2679, 'wkent': 5360, 'simpler': 4279, 'prompt': 3722, 'utxt': 5110, 'natali': 3118, 'ofcours': 3285, 'up': 5076, 'usp': 5106, 'lag': 2587, 'bribe': 592, 'nipost': 3194, 'zhong': 5529, 'qing': 3777, 'fridg': 1779, 'meal': 2891, 'accident': 30, 'sterm': 4525, 'resolv': 3940, 'fab': 1563, 'snake': 4361, 'raiden': 3805, 'thankyou': 4785, 'diaper': 1207, 'owe': 3396, 'arabian': 247, 'steed': 4519, 'mmmmmm': 2987, 'there': 4801, 'chick': 801, 'huge': 2212, 'boob': 539, 'wahala': 5198, 'ibh': 2238, 'lotta': 2748, 'corvett': 985, 'ultim': 5023, 'tor': 4918, 'tui': 4981, 'achiev': 39, 'korli': 2569, 'sauci': 4083, 'daytim': 1115, 'busti': 655, 'janinexx': 2414, 'minmobsmorelkpobox': 2954, 'bruce': 618, 'fowler': 1751, 'distract': 1254, 'isaiah': 2377, 'prove': 3733, 'shoppin': 4233, 'atten': 313, 'hardcor': 2053, 'chrgd': 829, 'exit': 1538, 'social': 4375, 'ore': 3358, 'owo': 3399, 'moment': 3009, 'fro': 1792, 'decor': 1136, 'xxxxxxxxx': 5462, 'twin': 4998, 'somethin': 4394, 'warwick': 5228, 'tmw': 4875, 'havn': 2075, 'nick': 3180, 'tom': 4893, 'nudist': 3251, 'giggl': 1886, 'nvq': 3261, 'crab': 1010, 'wave': 5242, 'footprint': 1725, 'fox': 1752, 'frndsship': 1789, 'dwn': 1357, 'payback': 3467, 'ding': 1227, 'tai': 4691, 'feng': 1625, 'reserv': 3935, 'someplac': 4390, 'spanish': 4434, 'rstm': 4014, 'sw': 4648, 'ss': 4487, 'so': 4372, 'gotto': 1951, 'comuk': 935, 'matric': 2876, 'steam': 4518, 'suggest': 4605, 'greec': 1978, 'yuou': 5519, 'spot': 4470, 'pickl': 3535, 'otsid': 3374, 'fishrman': 1669, 'ful': 1807, 'strtd': 4570, 'throwin': 4836, 'diamond': 1206, 'revers': 3960, 'mathemat': 2874, 'sinco': 4284, 'paye': 3468, 'urn': 5095, 'bewar': 468, 'fraud': 1758, 'disclos': 1243, 'prap': 3653, 'enuff': 1458, 'nan': 3110, 'sonathaya': 4402, 'soladha': 4382, 'extrem': 1558, 'privaci': 3694, 'sic': 4262, 'tirupur': 4863, 'fifa': 1638, 'healthi': 2086, 'rip': 3980, 'uteru': 5108, 'hen': 2112, 'textpod': 4775, 'pei': 3479, 'actor': 48, 'unemploy': 5045, 'textbuddi': 4771, 'postcod': 3627, 'rpl': 4010, 'cnl': 875, 'breather': 588, 'grant': 1966, 'fulfil': 1808, 'housew': 2194, 'lifetim': 2670, 'proper': 3726, 'tongu': 4905, 'alian': 134, 'jod': 2455, 'keri': 2528, 'smidgin': 4351, 'spare': 4435, 'younger': 5505, 'priest': 3685, 'callback': 679, 'chit': 820, 'logon': 2721, 'zf': 5528, 'gauti': 1848, 'sehwag': 4140, 'odi': 3284, 'delhi': 1153, 'goodnoon': 1936, 'punj': 3756, 'tiwari': 4866, 'instal': 2338, 'hasnt': 2061, 'sr': 4483, 'evalu': 1494, 'menu': 2920, 'web': 5252, 'txtx': 5009, 'thkin': 4817, 'parco': 3436, 'nb': 3128, 'rajitha': 3813, 'raj': 3809, 'ranju': 3826, 'befor': 438, 'xxxxx': 5458, 'everyday': 1505, 'fatti': 1600, 'wnevr': 5367, 'fal': 1577, 'vth': 5192, 'yen': 5485, 'madodu': 2811, 'nav': 3127, 'pretsorginta': 3677, 'nammanna': 3109, 'pretsovru': 3678, 'alwa': 153, 'eveb': 1497, 'lim': 2680, 'groov': 1986, 'dippeditinadew': 1232, 'lovingli': 2762, 'itwhichturnedinto': 2390, 'tomeandsaid': 4896, 'birthdat': 492, 'certif': 753, 'publish': 3750, 'softwar': 4378, 'melodi': 2910, 'wate': 5235, 'csbcm': 1042, 'callcost': 680, 'mobilesvari': 2997, 'maxmoneysymb': 2884, 'meiv': 2906, 'hardli': 2056, 'gotani': 1946, 'fedex': 1615, 'heaven': 2094, 'invent': 2359, 'snap': 4362, 'quizclub': 3793, 'rwm': 4036, 'bp': 569, 'warranti': 5227, 'pmoneysymb': 3580, 'crickit': 1030, 'spoon': 4468, 'forc': 1726, 'smeon': 4350, 'sez': 4178, 'arab': 246, 'evri': 1519, 'eshxxxxxxxxxxx': 1479, 'ride': 3971, 'crash': 1015, 'shanil': 4194, 'exchang': 1528, 'uncut': 5039, 'dino': 1229, 'prem': 3660, 'or': 3352, 'stool': 4540, 'ndship': 3131, 'needl': 3145, 'conect': 944, 'que': 3783, 'pase': 3449, 'buen': 634, 'tiempo': 4848, 'voicemail': 5182, 'chik': 804, 'filth': 1649, 'saristar': 4073, 'yt': 5513, 'mallika': 2833, 'sherawat': 4206, 'financi': 1655, 'coimbator': 891, 'unni': 5066, 'absenc': 15, 'southern': 4425, 'dhanush': 1199, 'finn': 1662, 'pai': 3410, 'seh': 4139, 'scare': 4094, 'watchin': 5233, 'cashto': 728, 'getstop': 1879, 'php': 3529, 'scotland': 4105, 'jjc': 2449, 'tendenc': 4752, 'andrew': 182, 'cedar': 742, 'hsbc': 2206, 'bold': 532, 'child': 806, 'fruit': 1798, 'hm': 2141, 'bike': 482, 'darker': 1102, 'pant': 3424, 'prakesh': 3652, 'vu': 5193, 'jb': 2424, 'buffi': 637, 'qlynnbv': 3778, 'cliff': 857, 'stabil': 4489, 'tranquil': 4942, 'vibrant': 5147, 'sarasota': 4070, 'uncount': 5038, 'noun': 3239, 'research': 3933, 'stitch': 4533, 'trouser': 4966, 'overtim': 3394, 'nigpun': 3189, 'varma': 5127, 'wildlif': 5328, 'worzel': 5399, 'wizzl': 5357, 'sip': 4290, 'cappuccino': 708, 'amma': 164, 'steer': 4520, 'shitin': 4222, 'defo': 1147, 'hardest': 2055, 'lekdog': 2645, 'prolli': 3717, 'western': 5287, 'chines': 815, 'shola': 4230, 'academ': 23, 'depart': 1169, 'sagamu': 4047, 'lautech': 2618, 'vital': 5172, 'citizen': 839, 'zealand': 5524, 'honeymoon': 2167, 'outfit': 3380, 'slide': 4328, 'shhhhh': 4209, 'grasp': 1968, 'all': 137, 'mone': 3012, 'eppolum': 1462, 'oru': 3366, 'allalo': 139, 'somewhat': 4397, 'laden': 2585, 'wreck': 5412, 'eek': 1390, 'tmrw': 4874, 'afternon': 90, 'culdnt': 1059, 'talkbut': 4699, 'wannatel': 5219, 'wenwecan': 5282, 'shini': 4217, 'stage': 4493, 'puzzel': 3768, 'googl': 1939, 'qet': 3774, 'gota': 1945, 'dena': 1163, 'seek': 4134, 'arnt': 266, 'xxxxxxxxxxxxxx': 5463, 'wiskey': 5348, 'brandi': 576, 'rum': 4026, 'gin': 1890, 'scotch': 4104, 'shampain': 4191, 'kudi': 2576, 'yarasu': 5471, 'dhina': 1200, 'vaazhthukk': 5117, 'webadr': 5253, 'gete': 1876, 'slip': 4330, 'vpod': 5189, 'drunkard': 1335, 'aveng': 337, 'gailxx': 1829, 'volcano': 5184, 'erupt': 1473, 'tsunami': 4976, 'hurrican': 2224, 'sway': 4655, 'aroundn': 268, 'disast': 1241, 'obedi': 3272, 'hmph': 2146, 'baller': 377, 'flurri': 1704, 'melt': 2911, 'born': 551, 'bun': 644, 'teenag': 4735, 'bot': 555, 'ey': 1559, 'calm': 687, 'downon': 1308, 'theacus': 4790, 'itxt': 2391, 'iwana': 2396, 'wotu': 5401, 'thew': 4803, 'haventcn': 2073, 'neth': 3158, 'french': 1772, 'gran': 1961, 'onlyfound': 3328, 'afew': 79, 'honi': 2168, 'fuuuuck': 1822, 'sleepin': 4323, 'hb': 2077, 'guessin': 2006, 'ton': 4901, 'hunk': 2220, 'apt': 242, 'ppt': 3645, 'jy': 2496, 'ft': 1800, 'rofl': 3993, 'dint': 1230, 'mentor': 2919, 'impati': 2286, 'belliger': 451, 'com': 904, 'nordstrom': 3224, 'swiss': 4668, 'crore': 1033, 'deposit': 1171, 'taxless': 4719, 'lane': 2599, 'supli': 4626, 'monthli': 3022, 'imf': 2280, 'block': 512, 'rich': 3969, 'politician': 3597, 'corrupt': 984, 'itna': 2388, 'karo': 2511, 'ki': 2535, 'pura': 3759, 'padh': 3408, 'christmassi': 833, 'chief': 803, 'bell': 449, 'royal': 4008, 'splash': 4458, 'tall': 4701, 'swell': 4664, 'slurp': 4339, 'cocksuck': 886, 'worthless': 5398, 'garbag': 1841, 'novelti': 3240, 'item': 2386, 'manual': 2846, 'reset': 3936, 'troubleshoot': 4965, 'oral': 3353, 'germani': 1874, 'cudnt': 1058, 'ctla': 1049, 'ent': 1448, 'ishtamayoo': 2380, 'bakrid': 374, 'lyricalladi': 2794, 'kent': 2524, 'vale': 5119, 'woould': 5383, 'gopalettan': 1940, 'particip': 3443, 'admin': 59, 'armenia': 263, 'swann': 4650, 'howard': 2196, 'spoil': 4463, 'interfu': 2349, 'swimsuit': 4666, 'despar': 1184, 'sweetheart': 4662, 'sugar': 4603, 'plum': 3573, 'smack': 4341, 'billion': 485, 'confer': 945, 'fixedlin': 1675, 'sac': 4038, 'carri': 722, 'difficulti': 1219, 'kama': 2504, 'sutra': 4644, 'depress': 1172, 'sd': 4115, 'butt': 657, 'svc': 4647, 'realiti': 3850, 'carolin': 719, 'interflora': 2348, 'txtstar': 5007, 'lack': 2584, 'particular': 3444, 'dramastorm': 1313, 'bhaji': 473, 'sachin': 4039, 'tarot': 4710, 'floppi': 1698, 'snappi': 4363, 'beliv': 448, 'desper': 1185, 'armand': 262, 'nigh': 3185, 'jsco': 2474, 'leadership': 2631, 'skill': 4307, 'psychic': 3743, 'scroung': 4112, 'ammo': 165, 'ak': 120, 'broken': 608, 'infront': 2323, 'wise': 5344, 'nutter': 3259, 'cutter': 1077, 'ctter': 1051, 'cttergg': 1052, 'cttargg': 1050, 'ctargg': 1047, 'ctagg': 1046, 'ie': 2261, 'treasur': 4952, 'steak': 4516, 'down': 1306, 'fletcher': 1687, 'prabha': 3647, 'soryda': 4418, 'sori': 4414, 'grocer': 1985, 'outbid': 3379, 'simonwatson': 4277, 'shinco': 4214, 'plyr': 3577, 'bid': 478, 'smsreward': 4357, 'notif': 3236, 'brotha': 611, 'method': 2928, 'calcul': 674, 'murali': 3079, 'embassi': 1423, 'taco': 4686, 'raja': 3810, 'burrito': 651, 'va': 5116, 'necessari': 3138, 'chiong': 818, 'atleast': 307, 'shakespear': 4188, 'madam': 2809, 'dlf': 1262, 'highest': 2126, 'maximum': 2883, 'salt': 4059, 'wound': 5405, 'grandfath': 1963, 'cultur': 1060, 'tulsi': 4985, 'leaf': 2632, 'lemon': 2647, 'bone': 535, 'problm': 3705, 'litr': 2699, 'watr': 5240, 'diseas': 1248, 'snd': 4364, 'pump': 3753, 'plate': 3560, 'leftov': 2640, 'weapon': 5248, 'axi': 353, 'lit': 2697, 'boyfriend': 567, 'satan': 4076, 'impost': 2293, 'destini': 1188, 'geoenvironment': 1870, 'implic': 2288, 'gail': 1828, 'tr': 4936, 'yaxxx': 5474, 'teresa': 4756, 'dec': 1128, 'ld': 2626, 'bam': 379, 'usml': 5105, 'lab': 2581, 'notebook': 3232, 'amanda': 157, 'subject': 4586, 'ganesh': 1837, 'wknd': 5363, 'plural': 3576, 'earliest': 1365, 'view': 5155, 'computerless': 934, 'lip': 2692, 'hangin': 2042, 'makin': 2828, 'abroad': 14, 'xxsp': 5455, 'stopcost': 4544, 'superior': 4624, 'shu': 4253, 'singapor': 4287, 'shi': 4210, 'perform': 3492, 'offlin': 3293, 'anjola': 188, 'toss': 4924, 'gudni': 2003, 'thursday': 4842, 'memor': 2914, 'lush': 2785, 'fumbl': 1810, 'marsm': 2864, 'edison': 1383, 'rightli': 3974, 'speechless': 4443, 'viva': 5174, 'gm': 1906, 'gnt': 1910, 'arsen': 274, 'henri': 2114, 'liverpool': 2703, 'yard': 5472, 'bergkamp': 460, 'margin': 2854, 'easiest': 1370, 'barcelona': 392, 'incred': 2308, 'blow': 519, 'fwd': 1823, 'telugu': 4745, 'haircut': 2027, 'breezi': 590, 'form': 1738, 'clark': 846, 'utter': 5109, 'diesel': 1214, 'flavour': 1685, 'bookshelf': 543, 'childporn': 808, 'afterward': 92, 'rearrang': 3855, 'dormitori': 1297, 'astronom': 300, 'starer': 4503, 'elect': 1410, 'recount': 3874, 'hitler': 2136, 'eleven': 1413, 'upstair': 5084, 'hectic': 2097, 'swoop': 4671, 'dip': 1231, 'swim': 4665, 'wrote': 5424, 'muhommad': 3070, 'penni': 3485, 'young': 5504, 'premium': 3662, 'panther': 3425, 'sugabab': 4601, 'zebra': 5525, 'badass': 367, 'hoodi': 2172, 'tesco': 4763, 'loser': 2743, 'spacebuck': 4430, 'ez': 1561, 'scienc': 4100, 'familiar': 1582, 'lighter': 2674, 'ayo': 356, 'forgotten': 1736, 'polic': 3596, 'cook': 972, 'veget': 5135, 'brilliant': 597, 'am': 156, 'prix': 3696, 'andr': 181, 'virgil': 5166, 'vday': 5133, 'parachut': 3430, 'freaki': 1760, 'cabin': 668, 'georg': 1871, 'textcomp': 4772, 'subsequ': 4593, 'tick': 4845, 'loneli': 2729, 'statu': 4511, 'frequent': 1773, 'neft': 3146, 'beneficiari': 458, 'liter': 2698, 'wondarful': 5377, 'robinson': 3990, 'sexiest': 4175, 'dirtiest': 1238, 'shatter': 4198, 'winnersclub': 5340, 'perspect': 3504, 'deliveredtomorrow': 1156, 'tlk': 4870, 'slightli': 4329, 'disastr': 1242, 'wld': 5364, 'syria': 4680, 'canada': 694, 'wewa': 5293, 'iriv': 2374, 'mb': 2887, 'iraq': 2373, 'afghanistan': 85, 'stabl': 4490, 'honest': 2162, 'paus': 3464, 'nicki': 3182, 'ke': 2519, 'qi': 3776, 'suddenli': 4597, 'sink': 4289, 'pace': 3405, 'cage': 671, 'surround': 4641, 'own': 3398, 'cuck': 1055, 'cope': 977, 'distanc': 1253, 'classmat': 850, 'erutupalam': 1474, 'thandiyachu': 4780, 'ava': 331, 'goodtim': 1938, 'oli': 3315, 'melnit': 2909, 'ifink': 2263, 'everythin': 1509, 'elvi': 1418, 'presley': 3672, 'casualti': 731, 'lastest': 2611, 'stereophon': 4523, 'marley': 2859, 'dizze': 1261, 'racal': 3798, 'libertin': 2662, 'stroke': 4567, 'nookii': 3217, 'bookmark': 542, 'british': 603, 'wahe': 5200, 'quizz': 3794, 'shell': 4204, 'unconsci': 5036, 'unhappi': 5049, 'snicker': 4365, 'chord': 826, 'varaya': 5124, 'elaya': 1408, 'stayin': 4513, 'stranger': 4555, 'getha': 1877, 'dogg': 1278, 'liver': 2702, 'panason': 3419, 'bluetoothhdset': 523, 'doublemin': 1301, 'doubletxt': 1302, 'macedonia': 2800, 'poboxox': 3583, 'poke': 3591, 'whenevr': 5301, 'gray': 1973, 'listn': 2696, 'watevr': 5239, 'sptv': 4476, 'jersey': 2436, 'devil': 1195, 'detroit': 1191, 'wing': 5338, 'hockey': 2149, 'incorrect': 2306, 'smaller': 4343, 'capac': 706, 'mental': 2917, 'thedailydraw': 4794, 'dozen': 1309, 'prizeswith': 3699, 'everywher': 1511, 'dirt': 1236, 'chore': 827, 'exist': 1537, 'hail': 2025, 'mist': 2974, 'pooki': 3607, 'noisi': 3210, 'jot': 2469, 'previou': 3681, 'fredericksburg': 1761, 'notifi': 3237, 'market': 2858, 'beverag': 467, 'oi': 3299, 'parchi': 3435, 'kicchu': 2536, 'kaaj': 2497, 'kort': 2570, 'iccha': 2246, 'korch': 2567, 'tul': 4983, 'gam': 1833, 'outstand': 3388, 'salmon': 4057, 'vagu': 5118, 'agenc': 96, 'wishin': 5346, 'psp': 3740, 'toughest': 4930, 'unspoken': 5071, 'rebtel': 3860, 'firefox': 1664, 'unmit': 5064, 'smartcal': 4345, 'subscriptn': 4591, 'landlineonli': 2597, 'virgin': 5167, 'fil': 1645, 'sexual': 4176, 'steyn': 4527, 'wicket': 5318, 'safeti': 4046, 'aspect': 290, 'accommod': 31, 'variou': 5126, 'global': 1903, 'equal': 1464, 'unev': 5046, 'peski': 3508, 'cyclist': 1081, 'chillaxin': 811, 'essenti': 1484, 'looovvv': 2738, 'submit': 4587, 'tellmiss': 4743, 'twink': 4999, 'scalli': 4093, 'skin': 4309, 'jock': 2454, 'nat': 3117, 'yeovil': 5486, 'motor': 3040, 'kindli': 2546, 'dice': 1208, 'alter': 151, 'swashbuckl': 4652, 'correctli': 983, 'smsservic': 4358, 'yourinclus': 5507, 'randomlli': 3823, 'mcfli': 2889, 'ab': 5, 'sara': 4069, 'jorg': 2468, 'smith': 4353, 'neshanth': 3154, 'addi': 53, 'progress': 3715, 'continu': 965, 'shld': 4227, 'kaiez': 2499, 'hiphop': 2133, 'frndship': 1787, 'ag': 94, 'promo': 3720, 'valuabl': 5123, 'castor': 730, 'ooh': 3333, 'moseley': 3035, 'pocay': 3584, 'wocay': 5371, 'morrowxxxx': 3034, 'surya': 4643, 'pokkiri': 3593, 'subtoitl': 4594, 'fassyol': 1592, 'blacko': 501, 'londn': 2726, 'riley': 3975, 'measur': 2895, 'asthma': 298, 'attack': 311, 'somerset': 4391, 'carton': 724, 'shelv': 4205, 'soooo': 4410, 'tming': 4872, 'llc': 2706, 'ny': 3264, 'usa': 5098, 'msgrcvd': 3056, 'captain': 709, 'vijaykanth': 5157, 'drunken': 1336, 'satsgettin': 4080, 'rugbi': 4023, 'prop': 3725, 'chapter': 767, 'identif': 2255, 'spun': 4477, 'wrld': 5420, 'nytho': 3268, 'tx': 5002, 'fonin': 1718, 'hon': 2161, 'mwen': 3091, 'bk': 498, 'frmcloud': 1785, 'scratch': 4108, 'convert': 969, 'addict': 54, 'ash': 281, 'coveragd': 1005, 'vasai': 5128, 'companion': 920, 'chef': 792, 'organ': 3361, 'sympathet': 4677, 'athlet': 304, 'determin': 1190, 'psychologist': 3744, 'pest': 3509, 'extermin': 1555, 'psychiatrist': 3742, 'healer': 2085, 'stylist': 4584, 'aaniy': 2, 'pudunga': 3751, 'venaam': 5139, 'kit': 2554, 'strip': 4565, 'ig': 2264, 'oja': 3302, 'lucyxx': 2781, 'fwiw': 1824, 'afford': 84, 'washob': 5229, 'nob': 3204, 'nickey': 3181, 'platt': 3561, 'mymobi': 3094, 'unnecessarili': 5065, 'hostil': 2186, 'somewhr': 4400, 'crush': 1040, 'stil': 4531, 'tobe': 4880, 'lov': 2754, 'ukp': 5022, 'onward': 3331, 'update_now': 5080, 'cantdo': 703, 'anythingtomorrow': 210, 'mypar': 3095, 'aretak': 253, 'outfor': 3381, 'katexxx': 2513, 'breaker': 585, 'delux': 1159, 'featur': 1611, 'graphic': 1967, 'bbdelux': 413, 'asda': 280, 'mornin': 3028, 'thanku': 4784, 'kane': 2505, 'shud': 4254, 'jade': 2406, 'paul': 3463, 'barm': 395, 'famou': 1583, 'abil': 10, 'uncondit': 5035, 'temper': 4748, 'suganya': 4602, 'theoret': 4798, 'reboot': 3859, 'epi': 1461, 'nationwid': 3121, 'auto': 328, 'newport': 3168, 'misscal': 2967, 'frndz': 1790, 'velacheri': 5137, 'poem': 3588, 'fear': 1609, 'design': 1181, 'properti': 3728, 'annoy': 193, 'although': 152, 'eventu': 1500, 'toler': 4891, 'breadstick': 583, 'kfc': 2532, 'gravi': 1971, 'sari': 4072, 'tim': 4856, 'bollox': 533, 'tol': 4888, 'vivek': 5175, 'honeybe': 2166, 'sweetest': 4661, 'havnt': 2076, 'crack': 1011, 'thinkthi': 4812, 'xuhui': 5453, 'delici': 1154, 'exorc': 1540, 'emili': 1426, 'brows': 616, 'artist': 276, 'qu': 3780, 'neglect': 3148, 'loooooool': 2737, 'couch': 991, 'mro': 3051, 'ansr': 197, 'tyron': 5013, 'religi': 3906, 'persolvo': 3502, 'chase': 775, 'formoneysymb': 1741, 'kath': 2514, 'manchest': 2836, 'reunion': 3958, 'arngd': 265, 'walkin': 5209, 'unfortuntli': 5048, 'frnt': 1791, 'sayin': 4091, 'funk': 1816, 'bead': 423, 'syllabu': 4675, 'judgement': 2480, 'polo': 3598, 'honesti': 2163, 'starv': 4506, 'mummi': 3076, 'ambrith': 159, 'madurai': 2812, 'dha': 1198, 'marrg': 2860, 'videosound': 5154, 'gold': 1920, 'musicnew': 3083, 'cro': 1032, 'err': 1470, 'wereth': 5284, 'monkeespeopl': 3015, 'monkeyaround': 3017, 'howdi': 2198, 'howu': 2200, 'foundurself': 1747, 'jobyet': 2453, 'sausag': 4084, 'ummifi': 5027, 'bye': 666, 'partnership': 3447, 'invest': 2360, 'reliant': 3904, 'bread': 582, 'shine': 4216, 'parad': 3431, 'rgent': 3966, 'destin': 1187, 'restrict': 3949, 'buddi': 632, 'hearin': 2090, 'korean': 2568, 'natalja': 3119, 'prizeawait': 3698, 'rt': 4015, 'describ': 1177, 'convers': 968, 'arithmet': 260, 'percentag': 3489, 'zaher': 5523, 'period': 3496, 'becausethey': 428, 'rg': 3964, 'abstract': 17, 'audrey': 322, 'becz': 431, 'undrstndng': 5044, 'weirdi': 5271, 'browni': 615, 'hahaha': 2023, 'brain': 573, 'chic': 800, 'declar': 1135, 'repent': 3924, 'guild': 2008, 'lk': 2704, 'goodmat': 1932, 'asusu': 302, 'franyxxxxx': 1757, 'boooo': 544, 'nit': 3195, 'thesi': 4802, 'lightli': 2675, 'checkbox': 785, 'dealer': 1122, 'ay': 354, 'ana': 178, 'tomarrow': 4894, 'sathi': 4077, 'rto': 4017, 'fret': 1776, 'studyn': 4577, 'thnx': 4822, 'thread': 4829, 'wishlist': 5347, 'minimum': 2952, 'ktv': 2574, 'tightli': 4851, 'steve': 4526, 'mell': 2908, 'minnaminungint': 2956, 'nurungu': 3257, 'vettam': 5144, 'ibor': 2243, 'approach': 234, 'sankranti': 4065, 'republ': 3930, 'shivratri': 4226, 'ugadi': 5017, 'festiv': 1626, 'dasara': 1106, 'rememberi': 3912, 'sittin': 4299, 'bangbab': 386, 'bangb': 385, 'easili': 1371, 'oppos': 3344, 'romant': 3998, 'jack': 2402, 'pretend': 3676, 'hypotheticalhuagauahahuagahyuhagga': 2235, 'allo': 141, 'brave': 578, 'triumph': 4963, 'jolli': 2462, 'treatin': 4954, 'treacl': 4950, 'cornwal': 979, 'shite': 4221, 'kip': 2551, 'ibm': 2241, 'accumul': 37, 'coco': 887, 'engin': 1441, 'yalrigu': 5468, 'heltini': 2111, 'iyo': 2397, 'gotten': 1950, 'yah': 5466, 'hme': 2142, 'begun': 442, 'registr': 3896, 'perman': 3497, 'resid': 3937, 'jap': 2416, 'due': 1344, 'dodgey': 1273, 'olol': 3316, 'sync': 4679, 'shangela': 4192, 'invoic': 2364, 'piti': 3549, 'ortxt': 3365, 'duchess': 1341, 'arrow': 273, 'julianaland': 2484, 'oblivi': 3276, 'constantli': 960, 'mmmmmmm': 2988, 'snuggl': 4371, 'whisper': 5307, 'sunoco': 4617, 'level': 2657, 'smsing': 4356, 'scenario': 4096, 'siva': 4301, 'phil': 3520, 'nevil': 3163, 'mise': 2964, 'yunni': 5517, 'citylink': 840, 'sooo': 4409, 'jackpot': 2404, 'lccltd': 2625, 'rw': 4035, 'jam': 2408, 'hannaford': 2043, 'wheat': 5297, 'chex': 798, 'shag': 4183, 'christ': 830, 'plaid': 3556, 'hilari': 2127, 'braindanc': 574, 'aphex': 217, 'abel': 7, 'complac': 925, 'sundayish': 4615, 'canteen': 704, 'pathaya': 3458, 'enketa': 1446, 'maraikara': 2849, 'airtel': 113, 'dual': 1339, 'noncomitt': 3215, 'conact': 937, 'polyh': 3600, 'jontin': 2466, 'petey': 3512, 'wherear': 5302, 'friendsar': 1781, 'thekingshead': 4795, 'canlov': 699, 'nic': 3177, 'referin': 3884, 'mei': 2905, 'onword': 3332, 'mtnl': 3064, 'mumbai': 3074, 'amigo': 162, 'pose': 3619, 'comb': 905, 'dryer': 1337, 'telli': 4742, 'brdget': 581, 'jone': 2465, 'buzzzz': 664, 'chest': 797, 'firsg': 1666, 'alfi': 131, 'chariti': 770, 'profit': 3713, 'windi': 5335, 'soz': 4427, 'imat': 2279, 'rencontr': 3917, 'wenev': 5280, 'tact': 4687, 'ceri': 751, 'rebel': 3858, 'dreamz': 1318, 'involv': 2365, 'impos': 2291, 'commit': 915, 'sindu': 4285, 'neg': 3147, 'hmmmm': 2145, 'loxahatche': 2766, 'brum': 619, 'program': 3714, 'walkabout': 5208, 'court': 1002, 'checkin': 786, 'document': 1271, 'stapati': 4500, 'os': 3367, 'ubandu': 5015, 'disk': 1249, 'repair': 3922, 'brison': 601, 'ger': 1873, 'toke': 4886, 'syd': 4674, 'necklac': 3141, 'token': 4887, 'center': 746, 'tootsi': 4913, 'assist': 294, 'batsman': 405, 'notixiqu': 3238, 'laxinorf': 2621, 'bambl': 380, 'entrop': 1456, 'oblising': 3275, 'masteriast': 2869, 'amplikat': 173, 'fidalf': 1634, 'champlaxig': 760, 'atroci': 309, 'wotz': 5402, 'junna': 2489, 'tp': 4935, 'ow': 3395, 'thousad': 4827, 'cer': 749, 'peni': 3484, 'sometm': 4396, 'gimmi': 1889, 'goss': 1942, 'shindig': 4215, 'drugdeal': 1332, 'cutest': 1075, 'nowher': 3243, 'ikno': 2269, 'doesdiscount': 1274, 'shitinnit': 4223, 'flatter': 1684, 'pint': 3546, 'carlin': 717, 'drizzl': 1328, 'zero': 5527, 'affection': 82, 'ee': 1389, 'poortiyagi': 3611, 'odalebeku': 3283, 'hanumanji': 2045, 'hanuman': 2044, 'bajarangabali': 372, 'maruti': 2865, 'pavanaputra': 3465, 'sankatmochan': 4064, 'ramaduth': 3817, 'mahav': 2820, 'janarig': 2412, 'ivatt': 2393, 'kalisidar': 2502, 'olag': 3311, 'ondu': 3322, 'keluviri': 2522, 'maretar': 2852, 'ind': 2310, 'dodda': 1272, 'problum': 3706, 'nalli': 3107, 'siguviri': 4271, 'idu': 2260, 'matra': 2875, 'neglet': 3149, 'meg': 2902, 'defer': 1144, 'admiss': 62, 'ashley': 282, 'pisc': 3547, 'aquariu': 244, 'beta': 463, 'bleak': 507, 'yoyyooo': 5511, 'permiss': 3498, 'flash': 1682, 'benefit': 459, 'advisor': 75, 'diall': 1205, 'board': 526, 'overh': 3393, 'reslov': 3939, 'inst': 2337, 'amoneysymbnetwork': 167, 'supplier': 4629, 'pack': 3406, 'sathya': 4078, 'lovin': 2761, 'openin': 3338, 'formal': 1739, 'puttin': 3767, 'anythin': 209, 'pouch': 3632, 'ericson': 1466, 'der': 1174, 'luk': 2782, 'modl': 3001, 'understood': 5041, 'gep': 1872, 'caveboy': 737, 'prioriti': 3692, 'burgundi': 647, 'commerci': 914, 'hasbro': 2060, 'jump': 2485, 'hoop': 2174, 'jeremiah': 2433, 'blimey': 510, 'exercis': 1533, 'gage': 1827, 'gower': 1953, 'gaug': 1846, 'shanghai': 4193, 'cya': 1080, 'burial': 648, 'treadmil': 4951, 'craigslist': 1012, 'mandi': 2840, 'sullivan': 4608, 'hotmix': 2189, 'fm': 1707, 'easter': 1374, 'accent': 25, 'dental': 1167, 'nmde': 3201, 'administr': 60, 'opposit': 3345, 'battl': 407, 'vivekanand': 5176, 'uawak': 5014, 'feellikw': 1620, 'alett': 129, 'thatmum': 4789, 'gotmarri': 1947, 'ourback': 3376, 'fuckinnic': 1803, 'selfish': 4144, 'compass': 922, 'gnun': 1911, 'forgt': 1737, 'posh': 3620, 'chap': 765, 'trial': 4959, 'prod': 3709, 'champney': 761, 'dob': 1266, 'wrc': 5410, 'ralli': 3816, 'lucozad': 2780, 'itcould': 2385, 'jumper': 2486, 'hat': 2063, 'belt': 455, 'cribb': 1028, 'skint': 4310, 'othr': 3373, 'watchng': 5234, 'planet': 3559, 'comfey': 909, 'entrepreneur': 1454, 'squeez': 4480, 'yavnt': 5473, 'wuld': 5434, 'nuther': 3258, 'surnam': 4638, 'clue': 869, 'poet': 3589, 'evapor': 1495, 'violat': 5162, 'steal': 4517, 'employ': 1428, 'justifi': 2492, 'bloomberg': 518, 'profession': 3710, 'tiger': 4849, 'wood': 5381, 'slack': 4318, 'heal': 2084, 'maaaan': 2796, 'mila': 2939, 'blond': 515, 'mtalk': 3060, 'pp': 3638, 'increment': 2309, 'famamu': 1580, 'kg': 2533, 'nri': 3245, 'anna': 189, 'nagar': 3102, 'farm': 1589, 'jurong': 2490, 'amor': 170, 'hhahhaahahah': 2122, 'nig': 3183, 'leonardo': 2651, 'toa': 4877, 'payoh': 3470, 'dusk': 1354, 'puzzl': 3769, 'associ': 295, 'bull': 642, 'float': 1695, 'splashmobil': 4459, 'subscrit': 4592, 'veggi': 5136, 'reappli': 3854, 'yupz': 5521, 'length': 2648, 'behalf': 443, 'stun': 4580, 'corpor': 980, 'nr': 3244, 'zs': 5533, 'heater': 2093, 'degre': 1148, 'boundari': 560, 'endless': 1434, 'expos': 1553, 'wick': 5317, 'bpo': 570, 'worm': 5393, 'thirunelvali': 4815, 'tackl': 4685, 'featheri': 1610, 'bowa': 562, 'jx': 2495, 'yetti': 5492, 'flood': 1696, 'webpag': 5254, 'playng': 3565, 'race': 3799, 'acl': 42, 'poci': 3585, 'data': 1108, 'analysi': 180, 'chatlin': 778, 'inclu': 2300, 'bailiff': 371, 'typic': 5012, 'pressur': 3675, 'sane': 4063, 'dorm': 1296, 'lolnic': 2724, 'cereal': 750, 'alibi': 135, 'entertain': 1450, 'sopha': 4412, 'secondari': 4125, 'applic': 231, 'ogunrind': 3297, 'html': 2207, 'mfl': 2929, 'heehe': 2099, 'paypal': 3471, 'voila': 5183, 'pocket': 3586, 'dang': 1098, 'engalnd': 1440, 'mia': 2932, 'elliot': 1414, 'gayl': 1851, 'resent': 3934, 'queri': 3785, 'grinder': 1983, 'dom': 1287, 'roger': 3994, 'li': 2659, 'uncomfort': 5034, 'nitz': 3199, 'tix': 4867, 'arr': 269, 'oscar': 3368, 'ello': 1415, 'tke': 4868, 'shb': 4199, 'bootydeli': 547, 'refund': 3891, 'spreadsheet': 4473, 'entir': 1452, 'ritten': 3984, 'fold': 1711, 'laundri': 2617, 'rumour': 4029, 'univ': 5056, 'workout': 5391, 'vewi': 5145, 'lubli': 2776, 'grinul': 1984, 'pressi': 3674, 'bcaz': 415, 'anthoni': 201, 'wipro': 5342, 'missunderstd': 2973, 'papa': 3427, 'nelson': 3152, 'intend': 2345, 'iwa': 2395, 'marin': 2856, 'itri': 2389, 'urmom': 5094, 'careabout': 714, 'customercar': 1071, 'holbi': 2152, 'rel': 3900, 'headstart': 2083, 'rummer': 4028, 'babyjontet': 362, 'bhaskar': 475, 'spotti': 4471, 'provinc': 3736, 'sterl': 4524, 'smokin': 4355, 'ape': 216, 'underwear': 5042, 'sall': 4056, 'hehe': 2100, 'shexi': 4208, 'starshin': 4504, 'pendent': 3483, 'rimac': 3976, 'physic': 3531, 'snowboard': 4369, 'hassl': 2062, 'haughaighgtujhyguj': 2065, 'initi': 2326, 'debat': 1127, 'ffffffffff': 1631, 'noi': 3207, 'js': 2473, 'lamp': 2593, 'messi': 2926, 'bra': 571, 'strewn': 4561, 'pillow': 3542, 'kvb': 2578, 'uh': 5019, 'luci': 2777, 'cumin': 1062, 'someonon': 4389, 'ch': 754, 'liquor': 2693, 'loko': 2722, 'electr': 1411, 'textin': 4773, 'jaklin': 2407, 'lambu': 2592, 'ji': 2444, 'batchlor': 403, 'dept': 1173, 'intrepid': 2355, 'duo': 1352, 'hava': 2069, 'dramat': 1314, 'seper': 4160, '〨ud': 5536, 'object': 3274, 'prepay': 3665, 'resub': 3950, 'donat': 1288, 'unicef': 5051, 'asian': 285, 'fund': 1813, 'billi': 484, 'cthen': 1048, 'conclus': 941, 'antha': 200, 'corrct': 981, 'dane': 1097, 'decad': 1129, 'gover': 1952, 'slower': 4336, 'maniac': 2845, 'torrent': 4920, 'particularli': 3445, 'asshol': 293, 'victoria': 5150, 'traffic': 4939, 'glo': 1902, 'necessarili': 3139, 'attract': 317, 'bao': 389, 'sugardad': 4604, 'bcmsfwc': 418, 'squat': 4478, 'accommodationvouch': 32, 'mustprovid': 3087, 'dull': 1346, 'joker': 2460, 'shifad': 4211, 'miller': 2943, 'paranoid': 3434, 'deserv': 1180, 'gnarl': 1909, 'barkley': 394, 'nose': 3229, 'essay': 1483, 'burden': 645, 'worc': 5385, 'foreg': 1727, 'shrub': 4252, 'nevr': 3164, 'unrecogn': 5067, 'somon': 4401, 'definitli': 1146, 'undrstnd': 5043, 'hustl': 2228, 'forth': 1742, 'audit': 321, 'harlem': 2058, 'grab': 1957, 'exp': 1542, 'apr': 239, 'everyboy': 1504, 'xxxxxxxx': 5461, 'justbeen': 2491, 'overa': 3391, 'mush': 3081, 'oclock': 3281, 'bash': 398, 'invad': 2358, 'orig': 3363, 'consol': 958, 'tirunelvai': 4861, 'thmarch': 4819, 'availa': 333, 'lb': 2624, 'brilliantli': 598, 'hvae': 2231, 'pdate_now': 3473, 'yhl': 5494, 'mirror': 2962, 'landmark': 2598, 'bob': 528, 'barri': 396, 'ben': 456, 'sexychat': 4177, 'eachoth': 1361, 'sleepi': 4322}\n"
     ]
    }
   ],
   "source": [
    "# X_train_preprocessed = []\n",
    "# for sentence in X_train.values.tolist():\n",
    "#     X_train_preprocessed.append(preprocess_text(sentence))\n",
    "\n",
    "# dummy_set = (\"The sky is blue.\", \"The sun is bright.\")\n",
    "\n",
    "# ?CountVectorizer()\n",
    "cv = CountVectorizer(preprocessor=preprocess_text)\n",
    "cv.fit_transform(X_train)\n",
    "print(cv.vocabulary_)\n",
    "# print(X_train_preprocessed[0])\n",
    "# print(type(X_train_preprocessed))\n",
    "# print(type(X_train_preprocessed[0]))"
   ]
  },
  {
   "cell_type": "code",
   "execution_count": 51,
   "metadata": {},
   "outputs": [
    {
     "name": "stdout",
     "output_type": "stream",
     "text": [
      "  (0, 1928)\t1\n",
      "  (0, 2192)\t1\n",
      "  (0, 2636)\t1\n",
      "  (0, 3046)\t1\n",
      "  (0, 3303)\t1\n",
      "  (1, 57)\t1\n",
      "  (1, 1451)\t1\n",
      "  (1, 1762)\t1\n",
      "  (1, 1896)\t1\n",
      "  (1, 2555)\t1\n",
      "  (1, 3106)\t1\n",
      "  (1, 3122)\t1\n",
      "  (1, 3372)\t1\n",
      "  (2, 495)\t1\n",
      "  (2, 1425)\t1\n",
      "  (2, 2176)\t1\n",
      "  (2, 2886)\t1\n",
      "  (2, 3255)\t1\n",
      "  (2, 3303)\t1\n",
      "  (2, 4393)\t1\n",
      "  (3, 344)\t1\n",
      "  (3, 360)\t1\n",
      "  (3, 1944)\t1\n",
      "  (3, 2159)\t1\n",
      "  (3, 4532)\t1\n",
      "  :\t:\n",
      "  (4454, 727)\t1\n",
      "  (4454, 762)\t1\n",
      "  (4454, 1069)\t1\n",
      "  (4454, 1502)\t1\n",
      "  (4454, 2208)\t1\n",
      "  (4454, 3014)\t1\n",
      "  (4454, 3255)\t4\n",
      "  (4454, 3526)\t1\n",
      "  (4454, 5003)\t1\n",
      "  (4454, 5086)\t1\n",
      "  (4454, 5331)\t1\n",
      "  (4454, 5358)\t2\n",
      "  (4455, 1361)\t1\n",
      "  (4455, 1912)\t1\n",
      "  (4455, 2193)\t1\n",
      "  (4455, 2900)\t1\n",
      "  (4455, 3255)\t1\n",
      "  (4455, 4060)\t1\n",
      "  (4456, 1123)\t1\n",
      "  (4456, 1617)\t1\n",
      "  (4456, 1875)\t1\n",
      "  (4456, 2984)\t1\n",
      "  (4456, 4189)\t1\n",
      "  (4456, 4322)\t1\n",
      "  (4456, 4882)\t1\n"
     ]
    }
   ],
   "source": [
    "# X_words.iloc[0]\n",
    "X_train_preprocessed = cv.transform(X_train)\n",
    "X_train_preprocessed.todense()\n",
    "print(X_train_preprocessed)"
   ]
  },
  {
   "cell_type": "code",
   "execution_count": 52,
   "metadata": {},
   "outputs": [
    {
     "name": "stdout",
     "output_type": "stream",
     "text": [
      "IDF: [ 8.30384323  8.01616115  8.70930833 ...,  8.70930833  8.70930833\n",
      "  8.70930833]\n"
     ]
    }
   ],
   "source": [
    "#Create Bag og Words\n",
    "# del X\n",
    "# from textblob import TextBlob\n",
    "# def split_into_lemmas(message):\n",
    "#     message = message.lower()\n",
    "#     words = TextBlob(message).words\n",
    "#     # for each word, take its \"base form\" = lemma \n",
    "#     return [word.lemma for word in words]\n",
    "tfidf = TfidfTransformer(norm=\"l2\")\n",
    "tfidf.fit(X_train_preprocessed)\n",
    "print(\"IDF:\", tfidf.idf_)"
   ]
  },
  {
   "cell_type": "code",
   "execution_count": null,
   "metadata": {
    "collapsed": true
   },
   "outputs": [],
   "source": []
  },
  {
   "cell_type": "code",
   "execution_count": 53,
   "metadata": {},
   "outputs": [
    {
     "name": "stdout",
     "output_type": "stream",
     "text": [
      "[[ 0.  0.  0. ...,  0.  0.  0.]\n",
      " [ 0.  0.  0. ...,  0.  0.  0.]\n",
      " [ 0.  0.  0. ...,  0.  0.  0.]\n",
      " ..., \n",
      " [ 0.  0.  0. ...,  0.  0.  0.]\n",
      " [ 0.  0.  0. ...,  0.  0.  0.]\n",
      " [ 0.  0.  0. ...,  0.  0.  0.]]\n"
     ]
    }
   ],
   "source": [
    "X_train_tfidf = tfidf.transform(X_train_preprocessed)\n",
    "print(X_train_tfidf.todense())"
   ]
  },
  {
   "cell_type": "code",
   "execution_count": 78,
   "metadata": {},
   "outputs": [
    {
     "data": {
      "text/plain": [
       "GaussianNB(priors=None)"
      ]
     },
     "execution_count": 78,
     "metadata": {},
     "output_type": "execute_result"
    }
   ],
   "source": [
    "# from sklearn.naive_bayes import GaussianNB\n",
    "# classifier = GaussianNB()\n",
    "# from sklearn.ensemble import RandomForestClassifier\n",
    "# classifier = RandomForestClassifier(n_estimators = 2, criterion = 'entropy', random_state = 0)\n",
    "# from sklearn.svm import SVC\n",
    "# classifier = SVC(kernel = 'rbf', random_state = 0)\n",
    "# from sklearn.neighbors import KNeighborsClassifier\n",
    "# classifier = KNeighborsClassifier(n_neighbors = 2, metric = 'minkowski', p = 2)\n",
    "classifier.fit(X_train_tfidf, y_train)"
   ]
  },
  {
   "cell_type": "code",
   "execution_count": 79,
   "metadata": {
    "collapsed": true
   },
   "outputs": [],
   "source": [
    "X_test_preprocessed = cv.transform(X_test)\n",
    "X_test_preprocessed.todense()\n",
    "X_test_tfidf = tfidf.transform(X_test_preprocessed)"
   ]
  },
  {
   "cell_type": "code",
   "execution_count": 81,
   "metadata": {},
   "outputs": [],
   "source": [
    "y_test_pred = classifier.predict(X_test_tfidf)"
   ]
  },
  {
   "cell_type": "code",
   "execution_count": 82,
   "metadata": {},
   "outputs": [],
   "source": [
    "from sklearn.metrics import confusion_matrix\n",
    "cm = confusion_matrix(y_test, y_test_pred)"
   ]
  },
  {
   "cell_type": "code",
   "execution_count": 83,
   "metadata": {},
   "outputs": [
    {
     "name": "stdout",
     "output_type": "stream",
     "text": [
      "[[820 135]\n",
      " [ 18 142]]\n"
     ]
    }
   ],
   "source": [
    "print(cm)"
   ]
  },
  {
   "cell_type": "code",
   "execution_count": 74,
   "metadata": {},
   "outputs": [],
   "source": [
    "y_train_pred=classifier.predict(X_train_tfidf)"
   ]
  },
  {
   "cell_type": "code",
   "execution_count": 75,
   "metadata": {
    "collapsed": true
   },
   "outputs": [],
   "source": [
    "from sklearn.metrics import confusion_matrix\n",
    "cm = confusion_matrix(y_train, y_train_pred)"
   ]
  },
  {
   "cell_type": "code",
   "execution_count": 54,
   "metadata": {
    "collapsed": true
   },
   "outputs": [],
   "source": [
    "X_preprocessed_test = []\n",
    "for sentence in X_test.values.tolist():\n",
    "    X_preprocessed_test.append(preprocess_text(sentence))"
   ]
  },
  {
   "cell_type": "code",
   "execution_count": 55,
   "metadata": {
    "collapsed": true
   },
   "outputs": [],
   "source": [
    "from sklearn.feature_extraction.text import CountVectorizer\n",
    "cv = CountVectorizer(max_features = 1500)\n",
    "X_test_preprocessed = cv.fit_transform(X_preprocessed_test)"
   ]
  },
  {
   "cell_type": "code",
   "execution_count": 56,
   "metadata": {
    "collapsed": true
   },
   "outputs": [],
   "source": [
    "y_test_pred=classifier.predict(X_test_preprocessed)"
   ]
  },
  {
   "cell_type": "code",
   "execution_count": 57,
   "metadata": {
    "collapsed": true
   },
   "outputs": [],
   "source": [
    "from sklearn.metrics import confusion_matrix\n",
    "cm = confusion_matrix(y_test, y_test_pred)"
   ]
  },
  {
   "cell_type": "code",
   "execution_count": 58,
   "metadata": {},
   "outputs": [
    {
     "name": "stdout",
     "output_type": "stream",
     "text": [
      "[[955   0]\n",
      " [160   0]]\n"
     ]
    }
   ],
   "source": [
    "print(cm)"
   ]
  },
  {
   "cell_type": "code",
   "execution_count": 61,
   "metadata": {},
   "outputs": [
    {
     "data": {
      "text/plain": [
       "690     <Forwarded from 448712404000>Please CALL 08712...\n",
       "3587    I am hot n horny and willing I live local to y...\n",
       "134     Sunshine Quiz Wkly Q! Win a top Sony DVD playe...\n",
       "15      XXXMobileMovieClub: To use your credit, click ...\n",
       "3155    Not heard from U4 a while. Call 4 rude chat pr...\n",
       "4579    Urgent! call 09066350750 from your landline. Y...\n",
       "2311    You have won a Nokia 7250i. This is what you g...\n",
       "3424    Had your mobile 10 mths? Update to latest Oran...\n",
       "42      07732584351 - Rodger Burns - MSG = We tried to...\n",
       "3556    From next month get upto 50% More Calls 4 Ur s...\n",
       "684     Hi I'm sue. I am 20 years old and work as a la...\n",
       "3595    Do you want a New Nokia 3510i Colour Phone Del...\n",
       "1536    You have won a Nokia 7250i. This is what you g...\n",
       "1196    You have 1 new voicemail. Please call 08719181503\n",
       "1741    UR GOING 2 BAHAMAS! CallFREEFONE 08081560665 a...\n",
       "3978    Great NEW Offer - DOUBLE Mins & DOUBLE Txt on ...\n",
       "3433    Camera - You are awarded a SiPix Digital Camer...\n",
       "4577    Congratulations ur awarded 500 of CD vouchers ...\n",
       "2626    FREE RING TONE just text \"POLYS\" to 87131. The...\n",
       "1597    As a Registered Subscriber yr draw 4 a £100 gi...\n",
       "1778    Buy Space Invaders 4 a chance 2 win orig Arcad...\n",
       "2378    YES! The only place in town to meet exciting a...\n",
       "3010    Update_Now - 12Mths Half Price Orange line ren...\n",
       "5566    REMINDER FROM O2: To get 2.50 pounds free call...\n",
       "2224    Thanks for your ringtone order, ref number K71...\n",
       "4586    U have a Secret Admirer who is looking 2 make ...\n",
       "5079    Do you want a New Nokia 3510i colour phone Del...\n",
       "3009    Loan for any purpose £500 - £75,000. Homeowner...\n",
       "5381           You have 1 new message. Call 0207-083-6089\n",
       "3921    FREE>Ringtone! Reply REAL or POLY eg REAL1 1. ...\n",
       "                              ...                        \n",
       "4012    Please call our customer service representativ...\n",
       "531     PRIVATE! Your 2003 Account Statement for 07815...\n",
       "5524    You are awarded a SiPix Digital Camera! call 0...\n",
       "1625    500 free text msgs. Just text ok to 80488 and ...\n",
       "415     100 dating service cal;l 09064012103 box334sk38ch\n",
       "463     UpgrdCentre Orange customer, you may now claim...\n",
       "541     from www.Applausestore.com MonthlySubscription...\n",
       "2992    HOT LIVE FANTASIES call now 08707509020 Just 2...\n",
       "1765    Hi 07734396839 IBH Customer Loyalty Offer: The...\n",
       "1430    For sale - arsenal dartboard. Good condition b...\n",
       "5443    You have won a guaranteed 32000 award or maybe...\n",
       "517     Boltblue tones for 150p Reply POLY# or MONO# e...\n",
       "2247    Hi ya babe x u 4goten bout me?' scammers getti...\n",
       "3780    Claim a 200 shopping spree, just call 08717895...\n",
       "763     Urgent Ur £500 guaranteed award is still uncla...\n",
       "1414    Dear U've been invited to XCHAT. This is our f...\n",
       "3755    Bloomberg -Message center +447797706009 Why wa...\n",
       "2669    Wanna get laid 2nite? Want real Dogging locati...\n",
       "95      Your free ringtone is waiting to be collected....\n",
       "4377    If you don't, your prize will go to another cu...\n",
       "4991    Phony £350 award - Todays Voda numbers ending ...\n",
       "117     You are a winner U have been specially selecte...\n",
       "2686    URGENT! We are trying to contact U. Todays dra...\n",
       "1002    Please call our customer service representativ...\n",
       "2207    URGENT! Your mobile No 07xxxxxxxxx won a £2,00...\n",
       "3991    (Bank of Granite issues Strong-Buy) EXPLOSIVE ...\n",
       "3679    Promotion Number: 8714714 - UR awarded a City ...\n",
       "420     Send a logo 2 ur lover - 2 names joined by a h...\n",
       "4506    Mobile Club: Choose any of the top quality ite...\n",
       "2124    +123 Congratulations - in this week's competit...\n",
       "Name: 1, Length: 160, dtype: object"
      ]
     },
     "execution_count": 61,
     "metadata": {},
     "output_type": "execute_result"
    }
   ],
   "source": [
    "X_test[y_test!=y_test_pred]"
   ]
  },
  {
   "cell_type": "code",
   "execution_count": 66,
   "metadata": {},
   "outputs": [
    {
     "data": {
      "text/plain": [
       "ham     3870\n",
       "spam     587\n",
       "Name: 0, dtype: int64"
      ]
     },
     "execution_count": 66,
     "metadata": {},
     "output_type": "execute_result"
    }
   ],
   "source": [
    "y_train.value_counts()"
   ]
  },
  {
   "cell_type": "code",
   "execution_count": null,
   "metadata": {
    "collapsed": true
   },
   "outputs": [],
   "source": []
  }
 ],
 "metadata": {
  "colab": {
   "default_view": {},
   "name": "SMS Spam Filter.ipynb",
   "provenance": [],
   "version": "0.3.2",
   "views": {}
  },
  "kernelspec": {
   "display_name": "Python 3",
   "language": "python",
   "name": "python3"
  },
  "language_info": {
   "codemirror_mode": {
    "name": "ipython",
    "version": 3
   },
   "file_extension": ".py",
   "mimetype": "text/x-python",
   "name": "python",
   "nbconvert_exporter": "python",
   "pygments_lexer": "ipython3",
   "version": "3.6.3"
  }
 },
 "nbformat": 4,
 "nbformat_minor": 1
}
