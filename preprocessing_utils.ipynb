{
 "cells": [
  {
   "cell_type": "markdown",
   "metadata": {},
   "source": [
    "# Import Libraries"
   ]
  },
  {
   "cell_type": "code",
   "execution_count": 3,
   "metadata": {
    "collapsed": true
   },
   "outputs": [],
   "source": [
    "import pandas as pd\n",
    "import numpy as np"
   ]
  },
  {
   "cell_type": "markdown",
   "metadata": {},
   "source": [
    "# Get List of missing valued Columns"
   ]
  },
  {
   "cell_type": "code",
   "execution_count": 4,
   "metadata": {
    "collapsed": true
   },
   "outputs": [],
   "source": [
    "def get_missing_valued_columns_list(dataset):\n",
    "    return dataset.columns[dataset.isnull().any()]"
   ]
  },
  {
   "cell_type": "markdown",
   "metadata": {},
   "source": [
    "# Calculate number of missing data per column"
   ]
  },
  {
   "cell_type": "code",
   "execution_count": 5,
   "metadata": {
    "collapsed": true
   },
   "outputs": [],
   "source": [
    "def get_missing_valued_column_details(dataset):\n",
    "    sum_of_missing_values= dataset.isnull().sum(axis=0)\n",
    "    return sum_of_missing_values[sum_of_missing_values > 0]"
   ]
  },
  {
   "cell_type": "markdown",
   "metadata": {},
   "source": [
    "# Remove Columns which has almost same data in all the columns."
   ]
  },
  {
   "cell_type": "markdown",
   "metadata": {},
   "source": [
    "This might be categorical having 80% of the value to be same. \n",
    "\n",
    "Hence might not help in decision making process"
   ]
  },
  {
   "cell_type": "code",
   "execution_count": 10,
   "metadata": {
    "collapsed": true
   },
   "outputs": [],
   "source": [
    "def get_low_variance_columns(dataset):\n",
    "    from sklearn.feature_selection import VarianceThreshold\n",
    "    columns = training_dataset.iloc[:,:-1].columns\n",
    "    selector = VarianceThreshold(.8 * (1-.8))\n",
    "    selector.fit(training_dataset.iloc[:,:-1])\n",
    "    labels = [columns[x] for x in selector.get_support(indices=True) if x]\n",
    "    return labels"
   ]
  },
  {
   "cell_type": "markdown",
   "metadata": {},
   "source": [
    "# Useful to remove columns which has more missing values. "
   ]
  },
  {
   "cell_type": "code",
   "execution_count": 6,
   "metadata": {
    "collapsed": true
   },
   "outputs": [],
   "source": [
    "def remove_columns(dataset, column_name_array):\n",
    "    for column_name in column_name_array:\n",
    "        dataset = dataset.drop(column_name,1)\n",
    "    return dataset"
   ]
  },
  {
   "cell_type": "markdown",
   "metadata": {},
   "source": [
    "# Factorize All Categorical Columns. \n",
    "It will be useful for both filling missing vaues and Fitting and prediction"
   ]
  },
  {
   "cell_type": "code",
   "execution_count": 7,
   "metadata": {
    "collapsed": true
   },
   "outputs": [],
   "source": [
    "def factorize_categorical_columns(dataset, categorical_columns):\n",
    "    for column_name in categorical_columns:\n",
    "        if str(dataset[column_name].dtype) == 'object':\n",
    "            dataset[column_name] = dataset[column_name].factorize()[0]\n",
    "    return dataset"
   ]
  },
  {
   "cell_type": "markdown",
   "metadata": {},
   "source": [
    "# Fill missing values \n",
    "With Mean for continuous and most frequest value for categorical"
   ]
  },
  {
   "cell_type": "code",
   "execution_count": 8,
   "metadata": {
    "collapsed": true
   },
   "outputs": [],
   "source": [
    "def fill_missing_values(dataset, categorical_columns, missing_valued_columns):\n",
    "    from sklearn.preprocessing import Imputer, LabelEncoder\n",
    "    mean_imputer=Imputer(strategy=\"mean\" )\n",
    "    most_frequent_imputer=Imputer(strategy=\"most_frequent\" )\n",
    "    for column_name in missing_valued_columns:\n",
    "        print(column_name)\n",
    "        if column_name in categorical_columns:\n",
    "            dataset[column_name]=most_frequent_imputer.fit_transform(dataset[[column_name]]).ravel()\n",
    "        else:\n",
    "            dataset[column_name]=mean_imputer.fit_transform(dataset[[column_name]]).ravel()\n",
    "    return dataset"
   ]
  },
  {
   "cell_type": "markdown",
   "metadata": {},
   "source": [
    "# Set columns that has Categorical data"
   ]
  },
  {
   "cell_type": "code",
   "execution_count": 9,
   "metadata": {
    "collapsed": true
   },
   "outputs": [],
   "source": [
    "def set_categorical_columns(dataset, column_name_array):\n",
    "    for column_name in column_name_array:\n",
    "        dataset[column_name] = dataset[column_name].astype('category')\n",
    "    return dataset"
   ]
  },
  {
   "cell_type": "code",
   "execution_count": null,
   "metadata": {
    "collapsed": true
   },
   "outputs": [],
   "source": []
  }
 ],
 "metadata": {
  "kernelspec": {
   "display_name": "Python 3",
   "language": "python",
   "name": "python3"
  },
  "language_info": {
   "codemirror_mode": {
    "name": "ipython",
    "version": 3
   },
   "file_extension": ".py",
   "mimetype": "text/x-python",
   "name": "python",
   "nbconvert_exporter": "python",
   "pygments_lexer": "ipython3",
   "version": "3.6.3"
  }
 },
 "nbformat": 4,
 "nbformat_minor": 2
}
